{
 "cells": [
  {
   "cell_type": "markdown",
   "metadata": {},
   "source": [
    "¡Buen día Joaquin! Como te va?\n",
    "\n",
    "Mi nombre es Emanuel Fitta! Un gusto conocerte, seré tu revisor en este proyecto.\n",
    "\n",
    "A continuación un poco sobre la modalidad de revisión que usaremos:\n",
    "\n",
    "Cuando enccuentro un error por primera vez, simplemente lo señalaré, te dejaré encontrarlo y arreglarlo tú cuenta. Además, a lo largo del texto iré haciendo algunas observaciones sobre mejora en tu código y también haré comentarios sobre tus percepciones sobre el tema. Pero si aún no puedes realizar esta tarea, te daré una pista más precisa en la próxima iteración y también algunos ejemplos prácticos. Estaré abierto a comentarios y discusiones sobre el tema.\n",
    "\n",
    "Encontrará mis comentarios a continuación: **no los mueva, modifique ni elimine**.\n",
    "\n",
    "Puedes encontrar mis comentarios en cuadros verdes, amarillos o rojos como este:\n",
    "\n",
    "<div class=\"alert alert-block alert-success\">\n",
    "<b>Comentario del revisor.</b> <a class=\"tocSkip\"></a>\n",
    "\n",
    "Exito. Todo se ha hecho de forma exitosa.\n",
    "</div>\n",
    "\n",
    "<div class=\"alert alert-block alert-warning\">\n",
    "<b>Comentario del revisor.</b> <a class=\"tocSkip\"></a>\n",
    "\n",
    "Observación. Algunas recomendaciones.\n",
    "</div>\n",
    "\n",
    "<div class=\"alert alert-block alert-danger\">\n",
    "\n",
    "<b>Comentario del revisor.</b> <a class=\"tocSkip\"></a>\n",
    "\n",
    "Necesita arreglos. Este apartado necesita algunas correcciones. El trabajo no puede ser aceptado con comentarios rojos. \n",
    "</div>\n",
    "\n",
    "Puedes responder utilizando esto:\n",
    "\n",
    "<div class=\"alert alert-block alert-info\">\n",
    "<b>Respuesta de estudiante.</b> <a class=\"tocSkip\"></a>\n",
    "</div>"
   ]
  },
  {
   "cell_type": "code",
   "execution_count": null,
   "metadata": {},
   "outputs": [],
   "source": []
  },
  {
   "cell_type": "code",
   "execution_count": null,
   "metadata": {},
   "outputs": [],
   "source": []
  },
  {
   "cell_type": "code",
   "execution_count": null,
   "metadata": {},
   "outputs": [],
   "source": []
  },
  {
   "cell_type": "code",
   "execution_count": null,
   "metadata": {},
   "outputs": [],
   "source": []
  },
  {
   "cell_type": "markdown",
   "metadata": {},
   "source": [
    "<div class=\"alert alert-block alert-success\">\n",
    "<b>Review General. (Iteración 1) </b> <a class=\"tocSkip\"></a>\n",
    "\n",
    "Quiero felicitarte, de manera muy sincera. Pienso que tu trabajo es excelente. Sobre todo en el tema de los test estadísticos, donde aplicas algunos conceptos no básicos como la correccion de Bonferroni. Además, quiero felicitarte ya que las conclusiones que fuiste colocando son muy atinadas, lo suficientemente profundas. Creo que vas por buen camino, reitero mi felicitación y nada, fue un placer revisar tu proyecto, me diverti mucho, siguiendo tu analisis y descubriendo cosas junto a lo que ibas desarrollando.\n",
    "    \n",
    "Te deseo mucho éxito, estoy seguro que te espera un gran futuro en esta area."
   ]
  },
  {
   "cell_type": "markdown",
   "metadata": {},
   "source": [
    "# Descripción del proyecto\n",
    "Trabajas en una empresa emergente que vende productos alimenticios. Debes investigar el comportamiento del usuario para la aplicación de la empresa.\n",
    "\n",
    "- Primero, estudia el embudo de ventas. Descubre cómo los usuarios y las usuarias llegan a la etapa de compra. ¿Cuántos usuarios o usuarias realmente llegan a esta etapa? ¿Cuántos se atascan en etapas anteriores? ¿Qué etapas en particular?\n",
    "\n",
    "- Luego, observa los resultados de un test A/A/B. (Sigue leyendo para obtener más información sobre los test A/A/B). Al equipo de diseño le gustaría cambiar las fuentes de toda la aplicación, pero la gerencia teme que los usuarios y las usuarias piensen que el nuevo diseño es intimidante. Por ello, deciden tomar una decisión basada en los resultados de un test A/A/B.\n",
    "\n",
    "- Los usuarios se dividen en tres grupos: dos grupos de control obtienen las fuentes antiguas y un grupo de prueba obtiene las nuevas. Descubre qué conjunto de fuentes produce mejores resultados.\n",
    "\n",
    "- Crear dos grupos A tiene ciertas ventajas. Podemos establecer el principio de que solo confiaremos en la exactitud de nuestras pruebas cuando los dos grupos de control sean similares. Si hay diferencias significativas entre los grupos A, esto puede ayudarnos a descubrir factores que pueden estar distorsionando los resultados. La comparación de grupos de control también nos dice cuánto tiempo y datos necesitaremos cuando realicemos más tests.\n",
    "\n",
    "Utilizarás el mismo dataset para el análisis general y para el análisis A/A/B. En proyectos reales, los experimentos se llevan a cabo constantemente. El equipo de análisis estudia la calidad de una aplicación utilizando datos generales, sin prestar atención a si los usuarios y las usuarias participan en experimentos.\n",
    "\n",
    "## Abrir el archivo de datos, leer la información general y Preparar los datos para el análisis\n",
    "\n",
    "Ruta de archivo: /datasets/logs_exp_us.csv\n",
    "\n",
    "- Cambia el nombre de las columnas de manera que sea conveniente para ti\n",
    "- Comprueba si hay tipos de datos y valores ausentes. Corrige los datos si es necesario\n",
    "- Agrega una columna de fecha y hora y una columna separada para las fechas\n",
    "\n",
    "### Obtenemos los datos y las librerías necesarias"
   ]
  },
  {
   "cell_type": "code",
   "execution_count": 1,
   "metadata": {},
   "outputs": [],
   "source": [
    "import pandas as pd\n",
    "import matplotlib.pyplot as plt\n",
    "from statsmodels.stats.proportion import proportions_ztest\n",
    "\n",
    "# Cargar el archivo CSV en un DataFrame\n",
    "data = pd.read_csv('/datasets/logs_exp_us.csv', sep='\\t')\n"
   ]
  },
  {
   "cell_type": "markdown",
   "metadata": {},
   "source": [
    "<div class=\"alert alert-block alert-success\">\n",
    "<b>Comentario del revisor. (Iteración 1) </b> <a class=\"tocSkip\"></a>\n",
    "\n",
    "Perfecto! Empezamos bien! Lograste leer el archivo de manera correcta haciendo uso del parámetro sep."
   ]
  },
  {
   "cell_type": "markdown",
   "metadata": {},
   "source": [
    "### Aplicamos las correcciones de los datos"
   ]
  },
  {
   "cell_type": "code",
   "execution_count": 2,
   "metadata": {},
   "outputs": [],
   "source": [
    "# Cambiar los nombres de las columnas a snake_case\n",
    "data.columns = ['event_name', 'device_id_hash', 'event_timestamp', 'exp_id']\n",
    "\n",
    "# Crear una nueva columna con la fecha y hora (event_datetime)\n",
    "data['event_datetime'] = pd.to_datetime(data['event_timestamp'], unit='ms')\n",
    "\n",
    "# Crear una nueva columna solo con la fecha (event_date)\n",
    "data['event_date'] = data['event_datetime'].dt.date\n",
    "\n",
    "# Convertir device_id_hash a string (object)\n",
    "data['device_id_hash'] = data['device_id_hash'].astype(str)\n",
    "\n",
    "# Cambiar exp_id a categoría si tiene pocos valores únicos\n",
    "if data['exp_id'].nunique() < 100:  # Ajustar el umbral según tus necesidades\n",
    "    data['exp_id'] = data['exp_id'].astype('category')\n",
    "\n",
    "# Borrar los duplicados    \n",
    "data = data.drop_duplicates()\n"
   ]
  },
  {
   "cell_type": "markdown",
   "metadata": {},
   "source": [
    "<div class=\"alert alert-block alert-success\">\n",
    "<b>Comentario del revisor. (Iteración 1) </b> <a class=\"tocSkip\"></a>\n",
    "\n",
    "Hiciste una transformación muy atinada, a formato de fecha. Además, creo que fue una excelente idea hacer algunas de las transformaciones de tipo de dato, sobre todo veo muy interesante que exp_id, hayas decidio transformarlo a category."
   ]
  },
  {
   "cell_type": "markdown",
   "metadata": {},
   "source": [
    "### Previsualizamos los datos y comprobamos duplicados y valores nulos"
   ]
  },
  {
   "cell_type": "code",
   "execution_count": 3,
   "metadata": {},
   "outputs": [
    {
     "name": "stdout",
     "output_type": "stream",
     "text": [
      "\n",
      "--- Data Info ---\n",
      "\n",
      "                event_name       device_id_hash  event_timestamp exp_id  \\\n",
      "0         MainScreenAppear  4575588528974610257       1564029816    246   \n",
      "1         MainScreenAppear  7416695313311560658       1564053102    246   \n",
      "2  PaymentScreenSuccessful  3518123091307005509       1564054127    248   \n",
      "3         CartScreenAppear  3518123091307005509       1564054127    248   \n",
      "4  PaymentScreenSuccessful  6217807653094995999       1564055322    248   \n",
      "\n",
      "           event_datetime  event_date  \n",
      "0 1970-01-19 02:27:09.816  1970-01-19  \n",
      "1 1970-01-19 02:27:33.102  1970-01-19  \n",
      "2 1970-01-19 02:27:34.127  1970-01-19  \n",
      "3 1970-01-19 02:27:34.127  1970-01-19  \n",
      "4 1970-01-19 02:27:35.322  1970-01-19  \n",
      "\n",
      "--- Data Head ---\n",
      "\n",
      "<class 'pandas.core.frame.DataFrame'>\n",
      "Int64Index: 243713 entries, 0 to 244125\n",
      "Data columns (total 6 columns):\n",
      " #   Column           Non-Null Count   Dtype         \n",
      "---  ------           --------------   -----         \n",
      " 0   event_name       243713 non-null  object        \n",
      " 1   device_id_hash   243713 non-null  object        \n",
      " 2   event_timestamp  243713 non-null  int64         \n",
      " 3   exp_id           243713 non-null  category      \n",
      " 4   event_datetime   243713 non-null  datetime64[ns]\n",
      " 5   event_date       243713 non-null  object        \n",
      "dtypes: category(1), datetime64[ns](1), int64(1), object(3)\n",
      "memory usage: 11.4+ MB\n",
      "None\n",
      "\n",
      "--- Comprobar duplicados ---\n",
      "\n",
      "Número de filas duplicadas: 0\n",
      "\n",
      "--- Comprobar valores nulos ---\n",
      "\n",
      "Valores nulos por columna:\n",
      "event_name         0\n",
      "device_id_hash     0\n",
      "event_timestamp    0\n",
      "exp_id             0\n",
      "event_datetime     0\n",
      "event_date         0\n",
      "dtype: int64\n"
     ]
    }
   ],
   "source": [
    "# Mostrar las primeras filas del archivo\n",
    "print(\"\\n--- Data Info ---\\n\")\n",
    "print(data.head())\n",
    "\n",
    "# Obtener información general del DataFrame\n",
    "print(\"\\n--- Data Head ---\\n\")\n",
    "print(data.info())\n",
    "\n",
    "# Comprobar duplicados\n",
    "print(\"\\n--- Comprobar duplicados ---\\n\")\n",
    "duplicated_rows = data.duplicated().sum()\n",
    "print(f\"Número de filas duplicadas: {duplicated_rows}\")\n",
    "\n",
    "# Comprobar valores nulos\n",
    "print(\"\\n--- Comprobar valores nulos ---\\n\")\n",
    "missing_values = data.isnull().sum()\n",
    "print(\"Valores nulos por columna:\")\n",
    "print(missing_values)"
   ]
  },
  {
   "cell_type": "markdown",
   "metadata": {},
   "source": [
    "<div class=\"alert alert-block alert-success\">\n",
    "<b>Comentario del revisor. (Iteración 1) </b> <a class=\"tocSkip\"></a>\n",
    "\n",
    "Muy bien! Además, me gusta como colocas los titulares, eso hace que sean mucho más faciles de leer. Y como mencionas en las conclusiones, ahora tienes un dataframe limpio y listo para ser usado en los análisis que vienen."
   ]
  },
  {
   "cell_type": "markdown",
   "metadata": {},
   "source": [
    "### Conclusiones del análisis:\n",
    "\n",
    "1. **Carga y Exploración de Datos**: \n",
    "   - Se cargó el archivo CSV que contenía datos de eventos de la aplicación. Las columnas originales eran: `eventname`, `deviceidhash`, `eventtimestamp` y `expid`.\n",
    "   - Se utilizó el método `head` para revisar las primeras filas y `info` para obtener información general de las columnas, su tipo de dato, y la cantidad de valores no nulos.\n",
    "\n",
    "2. **Cambio de Formato de Columnas**:\n",
    "   - Los nombres de las columnas se transformaron a un formato más legible y estandarizado en `snake_case`, cambiando los nombres a: `event_name`, `device_id_hash`, `event_timestamp`, y `exp_id`.\n",
    "   - La columna `device_id_hash` se convirtió de un tipo numérico a cadena (`str`), ya que los identificadores no son utilizados para cálculos.\n",
    "   - Se crearon dos nuevas columnas:\n",
    "     - `event_datetime`: que contiene la fecha y hora completa convertida desde `event_timestamp`.\n",
    "     - `event_date`: que contiene solo la fecha, sin la hora.\n",
    "\n",
    "3. **Limpieza de Datos**:\n",
    "   - Se identificaron y eliminaron las filas duplicadas, que se consideraron errores de tracking de eventos.\n",
    "   - Se verificaron los valores nulos en las columnas, permitiendo evaluar posibles problemas de calidad de datos en futuras etapas.\n",
    "\n",
    "4. **Optimización de Tipos de Datos**:\n",
    "   - La columna `exp_id` se convirtió en una categoría, ya que el número de valores únicos es relativamente pequeño. Esto mejora el rendimiento y reduce el uso de memoria.\n",
    "\n",
    "5. **Resultados Finales**:\n",
    "   - El DataFrame resultante contiene datos limpios y estructurados de manera eficiente, con las nuevas columnas de fecha y fecha/hora, sin duplicados, y con los tipos de datos correctamente asignados para facilitar futuros análisis o visualizaciones.\n",
    "   \n",
    "## Estudiar y comprobar los datos\n",
    "\n",
    "- ¿Cuántos eventos hay en los registros?\n",
    "- ¿Cuántos usuarios y usuarias hay en los registros?\n",
    "- ¿Cuál es el promedio de eventos por usuario?\n",
    "- ¿Qué periodo de tiempo cubren los datos? Encuentra la fecha máxima y mínima. Traza un histograma por fecha y hora. ¿Puedes tener seguridad de que tienes datos igualmente completos para todo el periodo? Los eventos más antiguos podrían terminar en los registros de algunos usuarios o usuarias por razones técnicas y esto podría sesgar el panorama general. Encuentra el momento en el que los datos comienzan a estar completos e ignora la sección anterior. ¿Qué periodo representan realmente los datos?\n",
    "- ¿Perdiste muchos eventos y usuarios al excluir los datos más antiguos?\n",
    "- Asegúrate de tener usuarios y usuarias de los tres grupos experimentales."
   ]
  },
  {
   "cell_type": "code",
   "execution_count": 4,
   "metadata": {},
   "outputs": [
    {
     "name": "stdout",
     "output_type": "stream",
     "text": [
      "\n",
      "--- Número total de eventos ---\n",
      "\n",
      "Total de eventos en los registros: 243713\n"
     ]
    }
   ],
   "source": [
    "# Número total de eventos (filas)\n",
    "print(\"\\n--- Número total de eventos ---\\n\")\n",
    "total_events = len(data)\n",
    "print(f\"Total de eventos en los registros: {total_events}\")"
   ]
  },
  {
   "cell_type": "markdown",
   "metadata": {},
   "source": [
    "#### ¿Cuántos usuarios y usuarias hay en los registros?"
   ]
  },
  {
   "cell_type": "code",
   "execution_count": 5,
   "metadata": {},
   "outputs": [
    {
     "name": "stdout",
     "output_type": "stream",
     "text": [
      "\n",
      "--- Número de usuarios únicos ---\n",
      "\n",
      "Total de usuarios en los registros: 7551\n"
     ]
    }
   ],
   "source": [
    "# Número de usuarios únicos\n",
    "print(\"\\n--- Número de usuarios únicos ---\\n\")\n",
    "unique_users = data['device_id_hash'].nunique()\n",
    "print(f\"Total de usuarios en los registros: {unique_users}\")"
   ]
  },
  {
   "cell_type": "markdown",
   "metadata": {},
   "source": [
    "<div class=\"alert alert-block alert-success\">\n",
    "<b>Comentario del revisor. (Iteración 1) </b> <a class=\"tocSkip\"></a>\n",
    "\n",
    "Muy bien! En este caso identificamos a los usuarios con devide_id_hash."
   ]
  },
  {
   "cell_type": "markdown",
   "metadata": {},
   "source": [
    "#### ¿Cuál es el promedio de eventos por usuario?"
   ]
  },
  {
   "cell_type": "code",
   "execution_count": 6,
   "metadata": {},
   "outputs": [
    {
     "name": "stdout",
     "output_type": "stream",
     "text": [
      "\n",
      "--- Promedio de eventos por usuario ---\n",
      "\n",
      "Promedio de eventos por usuario: 32.27559263673685\n"
     ]
    }
   ],
   "source": [
    "# Promedio de eventos por usuario\n",
    "print(\"\\n--- Promedio de eventos por usuario ---\\n\")\n",
    "avg_events_per_user = total_events / unique_users\n",
    "print(f\"Promedio de eventos por usuario: {avg_events_per_user}\")"
   ]
  },
  {
   "cell_type": "markdown",
   "metadata": {},
   "source": [
    "<div class=\"alert alert-block alert-success\">\n",
    "<b>Comentario del revisor. (Iteración 1) </b> <a class=\"tocSkip\"></a>\n",
    "\n",
    "Excelente! "
   ]
  },
  {
   "cell_type": "markdown",
   "metadata": {},
   "source": [
    "#### ¿Qué periodo de tiempo cubren los datos? Encuentra la fecha máxima y mínima."
   ]
  },
  {
   "cell_type": "code",
   "execution_count": 7,
   "metadata": {},
   "outputs": [
    {
     "name": "stdout",
     "output_type": "stream",
     "text": [
      "\n",
      "--- Fecha mínima y máxima ---\n",
      "\n",
      "Periodo de tiempo cubierto: Desde 1970-01-19 02:27:09.816000 hasta 1970-01-19 02:46:52.517000\n"
     ]
    }
   ],
   "source": [
    "# Fecha mínima y máxima\n",
    "print(\"\\n--- Fecha mínima y máxima ---\\n\")\n",
    "min_date = data['event_datetime'].min()\n",
    "max_date = data['event_datetime'].max()\n",
    "print(f\"Periodo de tiempo cubierto: Desde {min_date} hasta {max_date}\")"
   ]
  },
  {
   "cell_type": "markdown",
   "metadata": {},
   "source": [
    "#### Trazar un histograma por fecha y hora."
   ]
  },
  {
   "cell_type": "code",
   "execution_count": 8,
   "metadata": {},
   "outputs": [
    {
     "data": {
      "image/png": "[encoded data removed]",
      "text/plain": [
       "<Figure size 1000x600 with 1 Axes>"
      ]
     },
     "metadata": {},
     "output_type": "display_data"
    }
   ],
   "source": [
    "# Trazar el histograma\n",
    "data['event_datetime'].hist(bins=50, figsize=(10,6))\n",
    "plt.title(\"Histograma de eventos por fecha y hora\")\n",
    "plt.xlabel(\"Fecha y hora\")\n",
    "plt.ylabel(\"Cantidad de eventos\")\n",
    "plt.show()"
   ]
  },
  {
   "cell_type": "markdown",
   "metadata": {},
   "source": [
    "<div class=\"alert alert-block alert-success\">\n",
    "<b>Comentario del revisor. (Iteración 1) </b> <a class=\"tocSkip\"></a>\n",
    "\n",
    "Muy bien! Te felicito, el gráfico que has realizado ha quedado muy bien! Además de muy facil de leer. Y justamente como emncionas abajo, la data que podríamos considerar útil para los análisis es la que está adelante del dia 19."
   ]
  },
  {
   "cell_type": "markdown",
   "metadata": {},
   "source": [
    "#### ¿Puedes tener seguridad de que tienes datos igualmente completos para todo el periodo?\n",
    "Los eventos más antiguos podrían terminar en los registros de algunos usuarios o usuarias por razones técnicas y esto podría sesgar el panorama general. Encuentra el momento en el que los datos comienzan a estar completos e ignora la sección anterior. ¿Qué periodo representan realmente los datos?\n",
    "\n",
    "**Respuesta**: A partir del histograma, se puede observar que los eventos se vuelven consistentes y frecuentes a partir de aproximadamente las 02:30 del día 19. Con base en esto, puedes decidir que los datos son completos y confiables a partir de ese punto.\n",
    "\n",
    "Podemos filtrar los datos para excluir los eventos anteriores a este momento, de manera que solo se incluyan eventos a partir del momento donde los datos son consistentes."
   ]
  },
  {
   "cell_type": "code",
   "execution_count": 9,
   "metadata": {},
   "outputs": [
    {
     "name": "stdout",
     "output_type": "stream",
     "text": [
      "\n",
      "--- Mostrar el nuevo periodo de tiempo ---\n",
      "\n",
      "Periodo de tiempo filtrado: Desde 1970-01-19 02:30:00.928000 hasta 1970-01-19 02:46:52.517000\n"
     ]
    }
   ],
   "source": [
    "# Establecer la fecha en la que los datos comienzan a estar completos (basado en el histograma)\n",
    "complete_start_datetime = '1970-01-19 02:30:00'\n",
    "\n",
    "# Filtrar los datos a partir de ese momento\n",
    "filtered_data = data[data['event_datetime'] >= complete_start_datetime]\n",
    "\n",
    "# Mostrar el nuevo periodo de tiempo\n",
    "print(\"\\n--- Mostrar el nuevo periodo de tiempo ---\\n\")\n",
    "min_date_filtered = filtered_data['event_datetime'].min()\n",
    "max_date_filtered = filtered_data['event_datetime'].max()\n",
    "print(f\"Periodo de tiempo filtrado: Desde {min_date_filtered} hasta {max_date_filtered}\")\n"
   ]
  },
  {
   "cell_type": "markdown",
   "metadata": {},
   "source": [
    "<div class=\"alert alert-block alert-success\">\n",
    "<b>Comentario del revisor. (Iteración 1) </b> <a class=\"tocSkip\"></a>\n",
    "\n",
    "Exacto! Con esto capturas los datos útiles!"
   ]
  },
  {
   "cell_type": "markdown",
   "metadata": {},
   "source": [
    "#### ¿Perdiste muchos eventos y usuarios al excluir los datos más antiguos?"
   ]
  },
  {
   "cell_type": "code",
   "execution_count": 10,
   "metadata": {},
   "outputs": [
    {
     "name": "stdout",
     "output_type": "stream",
     "text": [
      "\n",
      "--- Eventos y usuarios perdidos ---\n",
      "\n",
      "Eventos perdidos al excluir los más antiguos: 40\n",
      "Usuarios perdidos al excluir los más antiguos: 0\n"
     ]
    }
   ],
   "source": [
    "# Comparar número de eventos y usuarios antes y después del filtrado\n",
    "events_after_filter = len(filtered_data)\n",
    "users_after_filter = filtered_data['device_id_hash'].nunique()\n",
    "\n",
    "# Eventos y usuarios perdidos\n",
    "lost_events = total_events - events_after_filter\n",
    "lost_users = unique_users - users_after_filter\n",
    "print(\"\\n--- Eventos y usuarios perdidos ---\\n\")\n",
    "print(f\"Eventos perdidos al excluir los más antiguos: {lost_events}\")\n",
    "print(f\"Usuarios perdidos al excluir los más antiguos: {lost_users}\")\n"
   ]
  },
  {
   "cell_type": "markdown",
   "metadata": {},
   "source": [
    "<div class=\"alert alert-block alert-success\">\n",
    "<b>Comentario del revisor. (Iteración 1) </b> <a class=\"tocSkip\"></a>\n",
    "\n",
    "Acá tal vez hubiera valido la pena colocar en porcentajes, cual es el tamaño de la perdida."
   ]
  },
  {
   "cell_type": "markdown",
   "metadata": {},
   "source": [
    "#### Asegúrate de tener usuarios de los tres grupos experimentales:"
   ]
  },
  {
   "cell_type": "code",
   "execution_count": 11,
   "metadata": {
    "scrolled": true
   },
   "outputs": [
    {
     "name": "stdout",
     "output_type": "stream",
     "text": [
      "\n",
      "--- Asegurarse de que hay usuarios en los tres grupos ---\n",
      "\n",
      "Usuarios por grupo experimental:\n",
      "exp_id\n",
      "246    2489\n",
      "247    2520\n",
      "248    2542\n",
      "Name: device_id_hash, dtype: int64\n",
      "---\n",
      "Grupos experimentales presentes: [246, 247, 248]\n",
      "Categories (3, int64): [246, 247, 248]\n"
     ]
    }
   ],
   "source": [
    "# Contar usuarios únicos por cada grupo experimental\n",
    "print(\"\\n--- Asegurarse de que hay usuarios en los tres grupos ---\\n\")\n",
    "users_by_group = filtered_data.groupby('exp_id')['device_id_hash'].nunique()\n",
    "print(\"Usuarios por grupo experimental:\")\n",
    "print(users_by_group)\n",
    "\n",
    "# Asegurarse de que hay usuarios en los tres grupos\n",
    "exp_groups = filtered_data['exp_id'].unique()\n",
    "print(\"---\")\n",
    "print(f\"Grupos experimentales presentes: {exp_groups}\")\n"
   ]
  },
  {
   "cell_type": "markdown",
   "metadata": {},
   "source": [
    "### Conclusión del estudio y comprobación de datos\n",
    "\n",
    "- Los datos de eventos son confiables y completos a partir de la marca temporal de las ``02:30``.\n",
    "- La pérdida de eventos es mínima y no afecta el análisis.\n",
    "- Además, la base de usuarios y la representación de los grupos experimentales es equilibrada, lo que garantiza que los análisis posteriores serán robustos y sin sesgos significativos.\n",
    "\n",
    "## Estudiar el embudo de eventos\n",
    "\n",
    "- Observa qué eventos hay en los registros y su frecuencia de suceso. Ordénalos por frecuencia.\n",
    "- Encuentra la cantidad de usuarios y usuarias que realizaron cada una de estas acciones. Ordena los eventos por el número de usuarios y usuarias. Calcula la proporción de usuarios y usuarias que realizaron la acción al menos una vez.\n",
    "- ¿En qué orden crees que ocurrieron las acciones? ¿Todas son parte de una sola secuencia? No es necesario tenerlas en cuenta al calcular el embudo.\n",
    "- Utiliza el embudo de eventos para encontrar la proporción de usuarios y usuarias que pasan de una etapa a la siguiente. (Por ejemplo, para la secuencia de eventos A → B → C, calcula la proporción de usuarios en la etapa B a la cantidad de usuarios en la etapa A y la proporción de usuarios en la etapa C a la cantidad en la etapa B).\n",
    "- ¿En qué etapa pierdes más usuarios y usuarias?\n",
    "- ¿Qué porcentaje de usuarios y usuarias hace todo el viaje desde su primer evento hasta el pago?\n",
    "\n",
    "### Eventos y su frecuencia de suceso"
   ]
  },
  {
   "cell_type": "code",
   "execution_count": 12,
   "metadata": {},
   "outputs": [
    {
     "name": "stdout",
     "output_type": "stream",
     "text": [
      "\n",
      "--- Contar la frecuencia de cada evento y ordenarlos por frecuencia ---\n",
      "\n",
      "Frecuencia de eventos (ordenados):\n",
      "MainScreenAppear           119081\n",
      "OffersScreenAppear          46803\n",
      "CartScreenAppear            42660\n",
      "PaymentScreenSuccessful     34113\n",
      "Tutorial                     1016\n",
      "Name: event_name, dtype: int64\n"
     ]
    }
   ],
   "source": [
    "# Contar la frecuencia de cada evento y ordenarlos por frecuencia\n",
    "event_frequencies = filtered_data['event_name'].value_counts()\n",
    "print(\"\\n--- Contar la frecuencia de cada evento y ordenarlos por frecuencia ---\\n\")\n",
    "print(\"Frecuencia de eventos (ordenados):\")\n",
    "print(event_frequencies)\n"
   ]
  },
  {
   "cell_type": "markdown",
   "metadata": {},
   "source": [
    "<div class=\"alert alert-block alert-success\">\n",
    "<b>Comentario del revisor. (Iteración 1) </b> <a class=\"tocSkip\"></a>\n",
    "\n",
    "Mira que interesante! Con lo que hiciste, es muy claro que esto tiene el comportamiento clásico de un embudo. Donde la cantidad de interacciones va disminuyendo conforme se avanza en el embudo."
   ]
  },
  {
   "cell_type": "markdown",
   "metadata": {},
   "source": [
    "### Cantidad de usuarios que realizaron cada acción"
   ]
  },
  {
   "cell_type": "code",
   "execution_count": 13,
   "metadata": {
    "scrolled": true
   },
   "outputs": [
    {
     "name": "stdout",
     "output_type": "stream",
     "text": [
      "\n",
      "--- Cantidad de usuarios que realizaron cada acción ---\n",
      "\n",
      "Número de usuarios por evento (ordenados):\n",
      "event_name\n",
      "MainScreenAppear           7439\n",
      "OffersScreenAppear         4613\n",
      "CartScreenAppear           3749\n",
      "PaymentScreenSuccessful    3547\n",
      "Tutorial                    846\n",
      "Name: device_id_hash, dtype: int64\n",
      "\n",
      "Proporción de usuarios por evento:\n",
      "event_name\n",
      "MainScreenAppear           0.985168\n",
      "OffersScreenAppear         0.610912\n",
      "CartScreenAppear           0.496491\n",
      "PaymentScreenSuccessful    0.469739\n",
      "Tutorial                   0.112038\n",
      "Name: device_id_hash, dtype: float64\n"
     ]
    }
   ],
   "source": [
    "# Contar cuántos usuarios realizaron cada evento\n",
    "users_per_event = filtered_data.groupby('event_name')['device_id_hash'].nunique().sort_values(ascending=False)\n",
    "total_unique_users = filtered_data['device_id_hash'].nunique()\n",
    "\n",
    "# Calcular la proporción de usuarios que realizaron cada evento\n",
    "proportion_users_per_event = users_per_event / total_unique_users\n",
    "\n",
    "print(\"\\n--- Cantidad de usuarios que realizaron cada acción ---\\n\")\n",
    "print(\"Número de usuarios por evento (ordenados):\")\n",
    "print(users_per_event)\n",
    "\n",
    "print(\"\\nProporción de usuarios por evento:\")\n",
    "print(proportion_users_per_event)\n"
   ]
  },
  {
   "cell_type": "markdown",
   "metadata": {},
   "source": [
    "<div class=\"alert alert-block alert-success\">\n",
    "<b>Comentario del revisor. (Iteración 1) </b> <a class=\"tocSkip\"></a>\n",
    "\n",
    "Justamente! En terminos de porcentaje es mucho más claro como va disminuyendo la cantidad de interacciones."
   ]
  },
  {
   "cell_type": "markdown",
   "metadata": {},
   "source": [
    "### Orden de las acciones y secuencia\n",
    "\n",
    "El orden de los eventos en secuencia sería:\n",
    "\n",
    " 1. MainScreenAppear --> Pantalla principal\n",
    " 2. Tutorial --> Tutotial de cómo funciona la aplicación\n",
    " 3. OffersScreenAppear --> Pantalla de una oferta\n",
    " 4. CartScreenAppear --> Carrito de la compra\n",
    " 5. PaymentScreenSuccessful --> Confirmación del pago\n",
    " \n",
    "### Embudo de eventos: proporción de usuarios que pasan de una etapa a la siguiente"
   ]
  },
  {
   "cell_type": "code",
   "execution_count": 14,
   "metadata": {},
   "outputs": [
    {
     "name": "stdout",
     "output_type": "stream",
     "text": [
      "\n",
      " --- Tasas de conversión de cada etapa: --- \n",
      "\n",
      "Proporción de usuarios que pasan de MainScreenAppear a Tutorial: 11.37%\n",
      "Proporción de usuarios que pasan de Tutorial a OffersScreenAppear: 545.27%\n",
      "Proporción de usuarios que pasan de MainScreenAppear a OffersScreenAppear (sin contar Tutorial): 62.01%\n",
      "Proporción de usuarios que pasan de OffersScreenAppear a CartScreenAppear: 81.27%\n",
      "Proporción de usuarios que pasan de CartScreenAppear a PaymentScreenSuccessful: 94.61%\n"
     ]
    }
   ],
   "source": [
    "# Reemplazamos con los nombres de los eventos reales en el orden:\n",
    "# 1. MainScreenAppear\n",
    "# 2. Tutorial\n",
    "# 3. OffersScreenAppear\n",
    "# 4. CartScreenAppear\n",
    "# 5. PaymentScreenSuccessful\n",
    "\n",
    "# Número de usuarios que realizaron cada evento en la secuencia\n",
    "users_main_screen = filtered_data[filtered_data['event_name'] == 'MainScreenAppear']['device_id_hash'].nunique()\n",
    "users_tutorial = filtered_data[filtered_data['event_name'] == 'Tutorial']['device_id_hash'].nunique()\n",
    "users_offers = filtered_data[filtered_data['event_name'] == 'OffersScreenAppear']['device_id_hash'].nunique()\n",
    "users_cart = filtered_data[filtered_data['event_name'] == 'CartScreenAppear']['device_id_hash'].nunique()\n",
    "users_payment = filtered_data[filtered_data['event_name'] == 'PaymentScreenSuccessful']['device_id_hash'].nunique()\n",
    "\n",
    "# Calcular las proporciones de usuarios que pasan de una etapa a la siguiente\n",
    "proportion_main_to_tutorial = users_tutorial / users_main_screen if users_main_screen != 0 else 0\n",
    "proportion_tutorial_to_offers = users_offers / users_tutorial if users_tutorial != 0 else 0\n",
    "proportion_offers_to_cart = users_cart / users_offers if users_offers != 0 else 0\n",
    "proportion_cart_to_payment = users_payment / users_cart if users_cart != 0 else 0\n",
    "\n",
    "# Agregar la proporción de MainScreenAppear a OffersScreenAppear (sin contar Tutorial)\n",
    "proportion_main_to_offers = users_offers / users_main_screen if users_main_screen != 0 else 0\n",
    "\n",
    "# Mostrar las proporciones\n",
    "print(\"\\n --- Tasas de conversión de cada etapa: --- \\n\")\n",
    "print(f\"Proporción de usuarios que pasan de MainScreenAppear a Tutorial: {proportion_main_to_tutorial * 100:.2f}%\")\n",
    "print(f\"Proporción de usuarios que pasan de Tutorial a OffersScreenAppear: {proportion_tutorial_to_offers * 100:.2f}%\")\n",
    "print(f\"Proporción de usuarios que pasan de MainScreenAppear a OffersScreenAppear (sin contar Tutorial): {proportion_main_to_offers * 100:.2f}%\")\n",
    "print(f\"Proporción de usuarios que pasan de OffersScreenAppear a CartScreenAppear: {proportion_offers_to_cart * 100:.2f}%\")\n",
    "print(f\"Proporción de usuarios que pasan de CartScreenAppear a PaymentScreenSuccessful: {proportion_cart_to_payment * 100:.2f}%\")\n"
   ]
  },
  {
   "cell_type": "markdown",
   "metadata": {},
   "source": [
    "<div class=\"alert alert-block alert-success\">\n",
    "<b>Comentario del revisor. (Iteración 1) </b> <a class=\"tocSkip\"></a>\n",
    "\n",
    "Muy bien! Por lo que vemos de los números que muestras, valdría mucho la pena prescindir de la fase tutorial, pues incluso mete bastante ruido, al menos en este punto donde estás viendo la tasa de conversión."
   ]
  },
  {
   "cell_type": "markdown",
   "metadata": {},
   "source": [
    "### Identificar la etapa con mayor pérdida de usuarios:\n",
    "\n",
    "La mayor parte de los usuarios no comienzan el ``Tutorial``. Sin embargo, en la etapa siguiente vemos que hay un número desproporcionado de usuarios lo que sugiere que el ``Tutorial`` es opcional y muchos usuarios pasan directamente de la ``MainScreenAppear`` al ``OfferScreenAppear``. Por eso agregué la proporción de usuarios entre estas 2 etapas, la cual sigue siendo la que \"pierde\" más usuarios, pero ya no estamos hablando de un ``11.37%`` sino de un ``62.01%``, que parece mucho más razonable.\n",
    "\n",
    "### Porcentaje de usuarios que completan todo el embudo"
   ]
  },
  {
   "cell_type": "markdown",
   "metadata": {},
   "source": [
    "<div class=\"alert alert-block alert-success\">\n",
    "<b>Comentario del revisor. (Iteración 1) </b> <a class=\"tocSkip\"></a>\n",
    "\n",
    "Exacto! La capa tutorial muchos usuarios la omiten. Excelente observación."
   ]
  },
  {
   "cell_type": "code",
   "execution_count": 15,
   "metadata": {},
   "outputs": [
    {
     "name": "stdout",
     "output_type": "stream",
     "text": [
      "\n",
      " --- Usuarios que pagaron: --- \n",
      "\n",
      "Porcentaje de usuarios que completan todo el embudo (partiendo de MainScreenAppear): 47.68%\n",
      "Porcentaje de usuarios que completan todo el embudo (sobre el total de usuarios únicos): 46.97%\n"
     ]
    }
   ],
   "source": [
    "# Proporción de usuarios que completan el embudo partiendo de MainScreenAppear\n",
    "proportion_complete_journey_from_mainscreen = users_payment / users_main_screen if users_main_screen != 0 else 0\n",
    "\n",
    "# Proporción de usuarios que completan el embudo con respecto al total de usuarios únicos\n",
    "proportion_complete_journey_total_users = users_payment / total_unique_users if total_unique_users != 0 else 0\n",
    "\n",
    "# Mostrar resultados\n",
    "print(\"\\n --- Usuarios que pagaron: --- \\n\")\n",
    "print(f\"Porcentaje de usuarios que completan todo el embudo (partiendo de MainScreenAppear): {proportion_complete_journey_from_mainscreen * 100:.2f}%\")\n",
    "print(f\"Porcentaje de usuarios que completan todo el embudo (sobre el total de usuarios únicos): {proportion_complete_journey_total_users * 100:.2f}%\")\n"
   ]
  },
  {
   "cell_type": "markdown",
   "metadata": {},
   "source": [
    "<div class=\"alert alert-block alert-success\">\n",
    "<b>Comentario del revisor. (Iteración 1) </b> <a class=\"tocSkip\"></a>\n",
    "\n",
    "Muy atinada conclusión. Y de hecho casi 50% de usuarios que completan el embudo no es malo, generalmente, en aplicaciones reales, este porcentajte puede llegar a ser mucho menor."
   ]
  },
  {
   "cell_type": "markdown",
   "metadata": {},
   "source": [
    "La pequeña diferencia (0.71%) sugiere que hay algunos usuarios que ingresaron directamente en otros puntos del flujo (por ejemplo, directamente en una oferta o en el carrito de compras), sin pasar necesariamente por la pantalla principal. Estos usuarios están incluidos en el cálculo del **total de usuarios únicos**, pero no en el cálculo que parte de `MainScreenAppear`.\n",
    "\n",
    "\n",
    "### Conclusiones del análisis del embudo de eventos\n",
    "\n",
    "- **Alta conversión hacia el pago**: El embudo tiene un rendimiento muy sólido en las últimas etapas, con una tasa de conversión de **94.61%** de usuarios que completan la compra después de agregar productos al carrito. Esto indica que una vez que los usuarios muestran interés real en comprar, es muy probable que completen la transacción.\n",
    "  \n",
    "- **Tutorial poco utilizado**: El tutorial tiene una tasa de participación baja, con solo un **11.37%** de los usuarios que lo completan tras llegar a la pantalla principal. Esto sugiere que el tutorial podría ser una opción menos relevante para la mayoría de los usuarios.\n",
    "\n",
    "- **Buena retención en la etapa de ofertas**: Más del **62%** de los usuarios pasan directamente de la pantalla principal a las ofertas, lo que indica que el interés por explorar productos u ofertas es un comportamiento común.\n",
    "\n",
    "- **Pérdida principal entre pantalla principal y ofertas**: A pesar de que más de la mitad de los usuarios acceden a la pantalla de ofertas, todavía hay una caída significativa del **38%** de usuarios que no avanzan desde la pantalla principal, lo que sugiere una oportunidad para optimizar la experiencia inicial y aumentar el número de usuarios que exploran ofertas.\n",
    "\n",
    "\n",
    "## Estudiar los resultados del experimento\n",
    "\n",
    "- ¿Cuántos usuarios y usuarias hay en cada grupo?\n",
    "- Tenemos dos grupos de control en el test A/A, donde comprobamos nuestros mecanismos y cálculos. Observa si hay una diferencia estadísticamente significativa entre las muestras 246 y 247.\n",
    "- Selecciona el evento más popular. En cada uno de los grupos de control, encuentra la cantidad de usuarios y usuarias que realizaron esta acción. Encuentra su proporción. Comprueba si la diferencia entre los grupos es estadísticamente significativa. Repite el procedimiento para todos los demás eventos (ahorrarás tiempo si creas una función especial para esta prueba). ¿Puedes confirmar que los grupos se dividieron correctamente?\n",
    "- Haz lo mismo para el grupo con fuentes alteradas. Compara los resultados con los de cada uno de los grupos de control para cada evento de forma aislada. Compara los resultados con los resultados combinados de los grupos de control. ¿Qué conclusiones puedes sacar del experimento?\n",
    "- ¿Qué nivel de significación has establecido para probar las hipótesis estadísticas mencionadas anteriormente? Calcula cuántas pruebas de hipótesis estadísticas has realizado. Con un nivel de significancia estadística de 0.1, uno de cada 10 resultados podría ser falso. ¿Cuál debería ser el nivel de significación? Si deseas cambiarlo, vuelve a ejecutar los pasos anteriores y comprueba tus conclusiones.\n",
    "\n",
    "### ¿Cuántos usuarios hay en cada grupo?"
   ]
  },
  {
   "cell_type": "code",
   "execution_count": 16,
   "metadata": {},
   "outputs": [
    {
     "name": "stdout",
     "output_type": "stream",
     "text": [
      "\n",
      " --- Usuarios por grupo --- \n",
      "\n",
      "Número de usuarios por grupo:\n",
      "exp_id\n",
      "246    2489\n",
      "247    2520\n",
      "248    2542\n",
      "Name: device_id_hash, dtype: int64\n"
     ]
    }
   ],
   "source": [
    "# Contar usuarios únicos por cada grupo experimental\n",
    "users_per_group = filtered_data.groupby('exp_id')['device_id_hash'].nunique()\n",
    "print(\"\\n --- Usuarios por grupo --- \\n\")\n",
    "print(\"Número de usuarios por grupo:\")\n",
    "print(users_per_group)\n"
   ]
  },
  {
   "cell_type": "markdown",
   "metadata": {},
   "source": [
    "### Comparar si hay una diferencia estadísticamente significativa entre las muestras de control 246 y 247 (Test A/A)"
   ]
  },
  {
   "cell_type": "code",
   "execution_count": 17,
   "metadata": {
    "scrolled": true
   },
   "outputs": [
    {
     "name": "stdout",
     "output_type": "stream",
     "text": [
      "\n",
      " --- Comparar si hay una diferencia estadísticamente significativa --- \n",
      "\n",
      "Prueba Z entre grupo 246 y grupo 247: estadístico = -0.6194427521718309, p-valor = 0.535624724397024\n",
      "---\n",
      "No hay una diferencia estadísticamente significativa entre los grupos 246 y 247.\n"
     ]
    }
   ],
   "source": [
    "# Número de usuarios por grupo\n",
    "users_group_246 = filtered_data[filtered_data['exp_id'] == 246]['device_id_hash'].nunique()\n",
    "users_group_247 = filtered_data[filtered_data['exp_id'] == 247]['device_id_hash'].nunique()\n",
    "\n",
    "# Número total de usuarios en ambos grupos\n",
    "total_users = users_group_246 + users_group_247\n",
    "\n",
    "# Hacer una prueba Z para comparar las proporciones entre los dos grupos\n",
    "count = [users_group_246, users_group_247]\n",
    "nobs = [total_users, total_users]\n",
    "stat, p_value = proportions_ztest(count, nobs)\n",
    "print(\"\\n --- Comparar si hay una diferencia estadísticamente significativa --- \\n\")\n",
    "print(f\"Prueba Z entre grupo 246 y grupo 247: estadístico = {stat}, p-valor = {p_value}\")\n",
    "print(\"---\")\n",
    "if p_value < 0.05:\n",
    "    print(\"La diferencia entre los grupos 246 y 247 es estadísticamente significativa.\")\n",
    "else:\n",
    "    print(\"No hay una diferencia estadísticamente significativa entre los grupos 246 y 247.\")\n"
   ]
  },
  {
   "cell_type": "markdown",
   "metadata": {},
   "source": [
    "<div class=\"alert alert-block alert-success\">\n",
    "<b>Comentario del revisor. (Iteración 1) </b> <a class=\"tocSkip\"></a>\n",
    "\n",
    "Excelente, el ztest es adecuado para testear proporciones entre dos grupos de datos. "
   ]
  },
  {
   "cell_type": "markdown",
   "metadata": {},
   "source": [
    "### Seleccionar el evento más popular"
   ]
  },
  {
   "cell_type": "code",
   "execution_count": 18,
   "metadata": {},
   "outputs": [
    {
     "name": "stdout",
     "output_type": "stream",
     "text": [
      "\n",
      " --- Seleccionar el evento más popular --- \n",
      "\n",
      "Usuarios por grupo que realizaron el evento MainScreenAppear:\n",
      "exp_id\n",
      "246    2456\n",
      "247    2482\n",
      "248    2501\n",
      "Name: device_id_hash, dtype: int64\n",
      "Proporción de usuarios que realizaron el evento MainScreenAppear:\n",
      "exp_id\n",
      "246    0.986742\n",
      "247    0.984921\n",
      "248    0.983871\n",
      "Name: device_id_hash, dtype: float64\n"
     ]
    }
   ],
   "source": [
    "# Seleccionar el evento más popular\n",
    "most_popular_event = 'MainScreenAppear'\n",
    "\n",
    "# Contar usuarios por grupo que realizaron el evento más popular\n",
    "users_per_group_event = filtered_data[filtered_data['event_name'] == most_popular_event].groupby('exp_id')['device_id_hash'].nunique()\n",
    "\n",
    "# Proporciones de usuarios que realizaron el evento en cada grupo\n",
    "proportion_per_group_event = users_per_group_event / users_per_group\n",
    "print(\"\\n --- Seleccionar el evento más popular --- \\n\")\n",
    "print(f\"Usuarios por grupo que realizaron el evento {most_popular_event}:\")\n",
    "print(users_per_group_event)\n",
    "\n",
    "print(f\"Proporción de usuarios que realizaron el evento {most_popular_event}:\")\n",
    "print(proportion_per_group_event)\n"
   ]
  },
  {
   "cell_type": "markdown",
   "metadata": {},
   "source": [
    "### Comparar si la diferencia en proporciones para el evento más popular es estadísticamente significativa"
   ]
  },
  {
   "cell_type": "code",
   "execution_count": 19,
   "metadata": {},
   "outputs": [
    {
     "name": "stdout",
     "output_type": "stream",
     "text": [
      "\n",
      " --- Comparar si la diferencia en proporciones --- \n",
      "\n",
      "Índices en users_per_group:\n",
      "Int64Index([246, 247, 248], dtype='int64', name='exp_id')\n",
      "---\n",
      "Prueba Z para el evento MainScreenAppear entre grupo 246 y grupo 247: estadístico = 0.5451301916932931, p-valor = 0.5856639791209877\n",
      "---\n",
      "No hay una diferencia estadísticamente significativa para el evento MainScreenAppear entre los grupos 246 y 247.\n"
     ]
    }
   ],
   "source": [
    "# Convertir exp_id a entero para asegurar acceso correcto a los índices si es category\n",
    "users_per_group_event.index = users_per_group_event.index.astype(int)\n",
    "users_per_group.index = users_per_group.index.astype(int)\n",
    "print(\"\\n --- Comparar si la diferencia en proporciones --- \\n\")\n",
    "\n",
    "# Verificar los índices disponibles en users_per_group\n",
    "print(\"Índices en users_per_group:\")\n",
    "print(users_per_group.index)\n",
    "\n",
    "print(\"---\")\n",
    "\n",
    "# Si 246 o 247 no están presentes, muestra un mensaje\n",
    "if 246 not in users_per_group.index or 247 not in users_per_group.index:\n",
    "    print(\"Error: Los grupos 246 o 247 no están presentes en users_per_group.\")\n",
    "else:\n",
    "    # Proporciones de usuarios que realizaron el evento en los grupos 246 y 247\n",
    "    count = [users_per_group_event[246], users_per_group_event[247]]\n",
    "    nobs = [users_per_group[246], users_per_group[247]]  # Total de usuarios en cada grupo\n",
    "\n",
    "    # Prueba Z para comparar las proporciones\n",
    "    stat, p_value = proportions_ztest(count, nobs)\n",
    "\n",
    "    # Mostrar los resultados\n",
    "    print(f\"Prueba Z para el evento {most_popular_event} entre grupo 246 y grupo 247: estadístico = {stat}, p-valor = {p_value}\")\n",
    "    print(\"---\")\n",
    "    if p_value < 0.05:\n",
    "        print(f\"La diferencia en proporciones para el evento {most_popular_event} entre los grupos 246 y 247 es estadísticamente significativa.\")\n",
    "    else:\n",
    "        print(f\"No hay una diferencia estadísticamente significativa para el evento {most_popular_event} entre los grupos 246 y 247.\")\n"
   ]
  },
  {
   "cell_type": "markdown",
   "metadata": {},
   "source": [
    "<div class=\"alert alert-block alert-success\">\n",
    "<b>Comentario del revisor. (Iteración 1) </b> <a class=\"tocSkip\"></a>\n",
    "\n",
    "Muy bien ejecutado! Sabes que resultaría muy interesante? El analizar porque para el evento más popular, que es el primero en el embudo, no hay diferencia significativa."
   ]
  },
  {
   "cell_type": "markdown",
   "metadata": {},
   "source": [
    "### Repetir el análisis para todos los eventos y verificar si los grupos se dividieron correctamente"
   ]
  },
  {
   "cell_type": "code",
   "execution_count": 20,
   "metadata": {},
   "outputs": [
    {
     "name": "stdout",
     "output_type": "stream",
     "text": [
      "\n",
      " --- Repetir el análisis para todos los eventos --- \n",
      "\n",
      "Evento: MainScreenAppear\n",
      "Estadístico Z: 0.5451301916932931, p-valor: 0.5856639791209877\n",
      "No hay una diferencia significativa para el evento MainScreenAppear entre los grupos 246 y 247\n",
      "\n",
      "Evento: PaymentScreenSuccessful\n",
      "Estadístico Z: 1.602588827462412, p-valor: 0.10902546202332887\n",
      "No hay una diferencia significativa para el evento PaymentScreenSuccessful entre los grupos 246 y 247\n",
      "\n",
      "Evento: CartScreenAppear\n",
      "Estadístico Z: 1.2867673033495426, p-valor: 0.19817540651836918\n",
      "No hay una diferencia significativa para el evento CartScreenAppear entre los grupos 246 y 247\n",
      "\n",
      "Evento: OffersScreenAppear\n",
      "Estadístico Z: 0.9876532351909723, p-valor: 0.3233225048227193\n",
      "No hay una diferencia significativa para el evento OffersScreenAppear entre los grupos 246 y 247\n",
      "\n",
      "Evento: Tutorial\n",
      "Estadístico Z: -0.11217411311023003, p-valor: 0.910685354348788\n",
      "No hay una diferencia significativa para el evento Tutorial entre los grupos 246 y 247\n",
      "\n"
     ]
    }
   ],
   "source": [
    "print(\"\\n --- Repetir el análisis para todos los eventos --- \\n\")\n",
    "\n",
    "def test_significance_for_all_events(filtered_data, group_1, group_2):\n",
    "    event_names = filtered_data['event_name'].unique()\n",
    "    \n",
    "    for event in event_names:\n",
    "        # Contar usuarios por grupo que realizaron cada evento\n",
    "        users_per_group_event = filtered_data[filtered_data['event_name'] == event].groupby('exp_id')['device_id_hash'].nunique()\n",
    "\n",
    "        # Asegurarnos de que los índices son enteros\n",
    "        users_per_group_event.index = users_per_group_event.index.astype(int)\n",
    "\n",
    "        # Verificar que ambos grupos están presentes\n",
    "        if group_1 in users_per_group_event.index and group_2 in users_per_group_event.index:\n",
    "            # Proporciones de usuarios por evento en ambos grupos\n",
    "            count = [users_per_group_event[group_1], users_per_group_event[group_2]]\n",
    "            nobs = [users_per_group[group_1], users_per_group[group_2]]\n",
    "\n",
    "            # Prueba Z para comparar las proporciones\n",
    "            stat, p_value = proportions_ztest(count, nobs)\n",
    "\n",
    "            # Mostrar resultados\n",
    "            print(f\"Evento: {event}\")\n",
    "            print(f\"Estadístico Z: {stat}, p-valor: {p_value}\")\n",
    "            if p_value < 0.05:\n",
    "                print(f\"Diferencia significativa para el evento {event} entre los grupos {group_1} y {group_2}\\n\")\n",
    "            else:\n",
    "                print(f\"No hay una diferencia significativa para el evento {event} entre los grupos {group_1} y {group_2}\\n\")\n",
    "        else:\n",
    "            print(f\"El evento {event} no está presente en uno o ambos grupos ({group_1}, {group_2}).\\n\")\n",
    "\n",
    "# Llamar a la función para los grupos 246 y 247\n",
    "test_significance_for_all_events(filtered_data, 246, 247)\n"
   ]
  },
  {
   "cell_type": "markdown",
   "metadata": {},
   "source": [
    "#### **Confirmación de la correcta división de los grupos de control (246 y 247)**:\n",
    "Al comparar los grupos de control (246 y 247) en cuanto a la proporción de usuarios que realizaron cada evento, **no se encontró una diferencia estadísticamente significativa** para ninguno de los eventos analizados. Los resultados fueron consistentes para eventos como:\n",
    "   - **MainScreenAppear** (p-valor = 0.585)\n",
    "   - **PaymentScreenSuccessful** (p-valor = 0.109)\n",
    "   - **CartScreenAppear** (p-valor = 0.198)\n",
    "   - **OffersScreenAppear** (p-valor = 0.323)\n",
    "   - **Tutorial** (p-valor = 0.910)\n",
    "   \n",
    "Esto indica que no hay evidencia de diferencias sistemáticas entre los grupos de control, lo que **confirma que los grupos se dividieron correctamente** y que el experimento no presenta sesgos en la distribución de usuarios entre estos dos grupos.\n",
    "\n",
    "### Hacer lo mismo para el grupo con fuentes alteradas (248)"
   ]
  },
  {
   "cell_type": "markdown",
   "metadata": {},
   "source": [
    "<div class=\"alert alert-block alert-success\">\n",
    "<b>Comentario del revisor. (Iteración 1) </b> <a class=\"tocSkip\"></a>\n",
    "\n",
    "Excelentemente ejecutado! La implementación de la función es una excelente practica, con esto aseguras escalabilidad de tu código.  En este caso, valdría mucho la pena indagar el porque en ningún caso hay diferencias significativas ¿Qué piensas?"
   ]
  },
  {
   "cell_type": "code",
   "execution_count": 21,
   "metadata": {},
   "outputs": [
    {
     "name": "stdout",
     "output_type": "stream",
     "text": [
      "\n",
      " --- Repetir el análisis para el grupo con fuentes alteradas --- \n",
      "\n",
      "Evento: MainScreenAppear\n",
      "Estadístico Z (Control combinado vs Grupo 248): 0.6639650253017861, p-valor: 0.5067126962216841\n",
      "No hay una diferencia significativa entre el control combinado y el grupo 248 para el evento MainScreenAppear\n",
      "\n",
      "Evento: PaymentScreenSuccessful\n",
      "Estadístico Z (Control combinado vs Grupo 248): 0.4428932702292813, p-valor: 0.6578429353593096\n",
      "No hay una diferencia significativa entre el control combinado y el grupo 248 para el evento PaymentScreenSuccessful\n",
      "\n",
      "Evento: CartScreenAppear\n",
      "Estadístico Z (Control combinado vs Grupo 248): 1.1240750513116875, p-valor: 0.2609811882648244\n",
      "No hay una diferencia significativa entre el control combinado y el grupo 248 para el evento CartScreenAppear\n",
      "\n",
      "Evento: OffersScreenAppear\n",
      "Estadístico Z (Control combinado vs Grupo 248): 0.7462102714499221, p-valor: 0.4555404043137232\n",
      "No hay una diferencia significativa entre el control combinado y el grupo 248 para el evento OffersScreenAppear\n",
      "\n",
      "Evento: Tutorial\n",
      "Estadístico Z (Control combinado vs Grupo 248): 0.2162542967856836, p-valor: 0.8287895319890773\n",
      "No hay una diferencia significativa entre el control combinado y el grupo 248 para el evento Tutorial\n",
      "\n"
     ]
    }
   ],
   "source": [
    "# Definir la función antes de invocarla\n",
    "def compare_combined_control_with_altered(filtered_data, combined_users, altered_group):\n",
    "    event_names = filtered_data['event_name'].unique()\n",
    "    \n",
    "    for event in event_names:\n",
    "        # Contar usuarios que realizaron el evento en los grupos combinados y en el grupo alterado\n",
    "        users_per_group_event = filtered_data[filtered_data['event_name'] == event].groupby('exp_id')['device_id_hash'].nunique()\n",
    "\n",
    "        # Asegurarnos de que los índices son enteros\n",
    "        users_per_group_event.index = users_per_group_event.index.astype(int)\n",
    "\n",
    "        # Verificar que los grupos 246, 247 y el grupo alterado están presentes\n",
    "        if 246 in users_per_group_event.index and 247 in users_per_group_event.index and altered_group in users_per_group_event.index:\n",
    "            combined_count = users_per_group_event[246] + users_per_group_event[247]\n",
    "            altered_count = users_per_group_event[altered_group]\n",
    "\n",
    "            count = [combined_count, altered_count]\n",
    "            nobs = [combined_users, users_per_group[altered_group]]\n",
    "\n",
    "            # Prueba Z para comparar el grupo combinado de control con el grupo alterado\n",
    "            stat, p_value = proportions_ztest(count, nobs)\n",
    "\n",
    "            print(f\"Evento: {event}\")\n",
    "            print(f\"Estadístico Z (Control combinado vs Grupo {altered_group}): {stat}, p-valor: {p_value}\")\n",
    "            if p_value < 0.05:\n",
    "                print(f\"Diferencia significativa entre el control combinado y el grupo {altered_group} para el evento {event}\\n\")\n",
    "            else:\n",
    "                print(f\"No hay una diferencia significativa entre el control combinado y el grupo {altered_group} para el evento {event}\\n\")\n",
    "        else:\n",
    "            print(f\"El evento {event} no está presente en uno o ambos grupos (246, 247, {altered_group}).\\n\")\n",
    "\n",
    "# Definir la cantidad total de usuarios combinados de los grupos de control (246 + 247)\n",
    "users_per_combined_control = users_per_group[246] + users_per_group[247]\n",
    "\n",
    "# Comparar el grupo combinado de control con el grupo 248\n",
    "print(\"\\n --- Repetir el análisis para el grupo con fuentes alteradas --- \\n\")\n",
    "compare_combined_control_with_altered(filtered_data, users_per_combined_control, 248)\n"
   ]
  },
  {
   "cell_type": "markdown",
   "metadata": {},
   "source": [
    "#### Conclusiones finales del experimento:\n",
    "\n",
    "1. **Comparación de los grupos de control (246 y 247)**:\n",
    "   - No se encontraron diferencias significativas entre los grupos de control para ninguno de los eventos analizados, lo que confirma que los usuarios se asignaron de manera adecuada y los grupos son estadísticamente similares en su comportamiento. Esto refuerza la validez del experimento en cuanto a la distribución equitativa de usuarios.\n",
    "\n",
    "2. **Impacto de las fuentes alteradas (grupo 248)**:\n",
    "   - El análisis del grupo con fuentes alteradas (248) frente a los grupos de control y el grupo combinado de control no mostró diferencias significativas en la proporción de usuarios que realizaron los eventos principales (`MainScreenAppear`, `PaymentScreenSuccessful`, `CartScreenAppear`, etc.).\n",
    "   - El uso de las fuentes alteradas en el grupo 248 **no afectó significativamente** el comportamiento de los usuarios en comparación con los grupos de control.\n",
    "\n",
    "3. **Nivel de significación corregido**:\n",
    "   - Incluso después de aplicar la corrección de **Bonferroni** (reduciendo el nivel de significancia a 0.01 para controlar el riesgo de falsos positivos debido a múltiples pruebas), no se encontraron diferencias significativas entre los grupos. Esto proporciona aún más confianza en la conclusión de que las fuentes alteradas no tuvieron un impacto detectable en el comportamiento de los usuarios."
   ]
  },
  {
   "cell_type": "markdown",
   "metadata": {},
   "source": [
    "<div class=\"alert alert-block alert-success\">\n",
    "<b>Comentario del revisor. (Iteración 1) </b> <a class=\"tocSkip\"></a>\n",
    "\n",
    "Te felicito por haber hecho uso de la corrección de Bonferroni, este es un concepto nada basico y lo has implementado en el lugar justo, te felicito."
   ]
  },
  {
   "cell_type": "markdown",
   "metadata": {},
   "source": [
    "#### Nivel de significación y ajuste para pruebas múltiples"
   ]
  },
  {
   "cell_type": "code",
   "execution_count": 22,
   "metadata": {},
   "outputs": [
    {
     "name": "stdout",
     "output_type": "stream",
     "text": [
      "Nuevo nivel de significación corregido por Bonferroni: 0.01\n",
      "\n",
      "--- Comparar el grupo 246 y 247 con Bonferroni ---\n",
      "\n",
      "Evento: MainScreenAppear\n",
      "Estadístico Z: 0.5451301916932931, p-valor: 0.5856639791209877\n",
      "No hay una diferencia significativa para el evento MainScreenAppear entre los grupos 246 y 247 (p-valor >= 0.01)\n",
      "\n",
      "Evento: PaymentScreenSuccessful\n",
      "Estadístico Z: 1.602588827462412, p-valor: 0.10902546202332887\n",
      "No hay una diferencia significativa para el evento PaymentScreenSuccessful entre los grupos 246 y 247 (p-valor >= 0.01)\n",
      "\n",
      "Evento: CartScreenAppear\n",
      "Estadístico Z: 1.2867673033495426, p-valor: 0.19817540651836918\n",
      "No hay una diferencia significativa para el evento CartScreenAppear entre los grupos 246 y 247 (p-valor >= 0.01)\n",
      "\n",
      "Evento: OffersScreenAppear\n",
      "Estadístico Z: 0.9876532351909723, p-valor: 0.3233225048227193\n",
      "No hay una diferencia significativa para el evento OffersScreenAppear entre los grupos 246 y 247 (p-valor >= 0.01)\n",
      "\n",
      "Evento: Tutorial\n",
      "Estadístico Z: -0.11217411311023003, p-valor: 0.910685354348788\n",
      "No hay una diferencia significativa para el evento Tutorial entre los grupos 246 y 247 (p-valor >= 0.01)\n",
      "\n",
      "\n",
      "--- Comparar el grupo combinado de control con el grupo 248 con Bonferroni ---\n",
      "\n",
      "Evento: MainScreenAppear\n",
      "Estadístico Z (Control combinado vs Grupo 248): 0.6639650253017861, p-valor: 0.5067126962216841\n",
      "No hay una diferencia significativa entre el control combinado y el grupo 248 para el evento MainScreenAppear (p-valor >= 0.01)\n",
      "\n",
      "Evento: PaymentScreenSuccessful\n",
      "Estadístico Z (Control combinado vs Grupo 248): 0.4428932702292813, p-valor: 0.6578429353593096\n",
      "No hay una diferencia significativa entre el control combinado y el grupo 248 para el evento PaymentScreenSuccessful (p-valor >= 0.01)\n",
      "\n",
      "Evento: CartScreenAppear\n",
      "Estadístico Z (Control combinado vs Grupo 248): 1.1240750513116875, p-valor: 0.2609811882648244\n",
      "No hay una diferencia significativa entre el control combinado y el grupo 248 para el evento CartScreenAppear (p-valor >= 0.01)\n",
      "\n",
      "Evento: OffersScreenAppear\n",
      "Estadístico Z (Control combinado vs Grupo 248): 0.7462102714499221, p-valor: 0.4555404043137232\n",
      "No hay una diferencia significativa entre el control combinado y el grupo 248 para el evento OffersScreenAppear (p-valor >= 0.01)\n",
      "\n",
      "Evento: Tutorial\n",
      "Estadístico Z (Control combinado vs Grupo 248): 0.2162542967856836, p-valor: 0.8287895319890773\n",
      "No hay una diferencia significativa entre el control combinado y el grupo 248 para el evento Tutorial (p-valor >= 0.01)\n",
      "\n"
     ]
    }
   ],
   "source": [
    "# Nivel de significación original\n",
    "alpha = 0.05\n",
    "n_tests = len(filtered_data['event_name'].unique())  # Número de eventos únicos (pruebas)\n",
    "\n",
    "# Nivel de significación ajustado por Bonferroni\n",
    "alpha_corrected = alpha / n_tests\n",
    "print(f\"Nuevo nivel de significación corregido por Bonferroni: {alpha_corrected}\")\n",
    "\n",
    "def test_significance_for_all_events_with_bonferroni(filtered_data, group_1, group_2):\n",
    "    event_names = filtered_data['event_name'].unique()\n",
    "    \n",
    "    for event in event_names:\n",
    "        # Contar usuarios por grupo que realizaron cada evento\n",
    "        users_per_group_event = filtered_data[filtered_data['event_name'] == event].groupby('exp_id')['device_id_hash'].nunique()\n",
    "\n",
    "        # Asegurarnos de que los índices son enteros\n",
    "        users_per_group_event.index = users_per_group_event.index.astype(int)\n",
    "\n",
    "        # Verificar que ambos grupos están presentes\n",
    "        if group_1 in users_per_group_event.index and group_2 in users_per_group_event.index:\n",
    "            # Proporciones de usuarios por evento en ambos grupos\n",
    "            count = [users_per_group_event[group_1], users_per_group_event[group_2]]\n",
    "            nobs = [users_per_group[group_1], users_per_group[group_2]]\n",
    "\n",
    "            # Prueba Z para comparar las proporciones\n",
    "            stat, p_value = proportions_ztest(count, nobs)\n",
    "\n",
    "            # Mostrar resultados con el nivel de significancia corregido\n",
    "            print(f\"Evento: {event}\")\n",
    "            print(f\"Estadístico Z: {stat}, p-valor: {p_value}\")\n",
    "            if p_value < alpha_corrected:\n",
    "                print(f\"Diferencia significativa para el evento {event} entre los grupos {group_1} y {group_2} (p-valor < {alpha_corrected})\\n\")\n",
    "            else:\n",
    "                print(f\"No hay una diferencia significativa para el evento {event} entre los grupos {group_1} y {group_2} (p-valor >= {alpha_corrected})\\n\")\n",
    "        else:\n",
    "            print(f\"El evento {event} no está presente en uno o ambos grupos ({group_1}, {group_2}).\\n\")\n",
    "\n",
    "# Llamar a la función para los grupos 246 y 247\n",
    "print(\"\\n--- Comparar el grupo 246 y 247 con Bonferroni ---\\n\")\n",
    "\n",
    "test_significance_for_all_events_with_bonferroni(filtered_data, 246, 247)\n",
    "\n",
    "# Comparar el grupo 248 con los controles combinados\n",
    "def compare_combined_control_with_bonferroni(filtered_data, combined_users, altered_group):\n",
    "    event_names = filtered_data['event_name'].unique()\n",
    "    \n",
    "    for event in event_names:\n",
    "        # Contar usuarios que realizaron el evento en los grupos combinados y en el grupo alterado\n",
    "        users_per_group_event = filtered_data[filtered_data['event_name'] == event].groupby('exp_id')['device_id_hash'].nunique()\n",
    "\n",
    "        # Asegurarnos de que los índices son enteros\n",
    "        users_per_group_event.index = users_per_group_event.index.astype(int)\n",
    "\n",
    "        # Verificar que los grupos 246, 247 y el grupo alterado están presentes\n",
    "        if 246 in users_per_group_event.index and 247 in users_per_group_event.index and altered_group in users_per_group_event.index:\n",
    "            combined_count = users_per_group_event[246] + users_per_group_event[247]\n",
    "            altered_count = users_per_group_event[altered_group]\n",
    "\n",
    "            count = [combined_count, altered_count]\n",
    "            nobs = [combined_users, users_per_group[altered_group]]\n",
    "\n",
    "            # Prueba Z para comparar el grupo combinado de control con el grupo alterado\n",
    "            stat, p_value = proportions_ztest(count, nobs)\n",
    "\n",
    "            print(f\"Evento: {event}\")\n",
    "            print(f\"Estadístico Z (Control combinado vs Grupo {altered_group}): {stat}, p-valor: {p_value}\")\n",
    "            if p_value < alpha_corrected:\n",
    "                print(f\"Diferencia significativa entre el control combinado y el grupo {altered_group} para el evento {event} (p-valor < {alpha_corrected})\\n\")\n",
    "            else:\n",
    "                print(f\"No hay una diferencia significativa entre el control combinado y el grupo {altered_group} para el evento {event} (p-valor >= {alpha_corrected})\\n\")\n",
    "        else:\n",
    "            print(f\"El evento {event} no está presente en uno o ambos grupos (246, 247, {altered_group}).\\n\")\n",
    "\n",
    "# Comparar el grupo combinado de control con el grupo 248\n",
    "print(\"\\n--- Comparar el grupo combinado de control con el grupo 248 con Bonferroni ---\\n\")\n",
    "compare_combined_control_with_bonferroni(filtered_data, users_per_combined_control, 248)\n"
   ]
  },
  {
   "cell_type": "markdown",
   "metadata": {},
   "source": [
    "#### **Comparación entre los grupos de control (246 vs 247)**:\n",
    "- **MainScreenAppear**: p-valor = 0.5856 → No hay diferencia significativa.\n",
    "- **PaymentScreenSuccessful**: p-valor = 0.109 → No hay diferencia significativa.\n",
    "- **CartScreenAppear**: p-valor = 0.198 → No hay diferencia significativa.\n",
    "- **OffersScreenAppear**: p-valor = 0.323 → No hay diferencia significativa.\n",
    "- **Tutorial**: p-valor = 0.910 → No hay diferencia significativa.\n",
    "\n",
    "**Conclusión**: No se encontraron diferencias significativas entre los grupos de control 246 y 247 en ninguno de los eventos, incluso después de aplicar la corrección de Bonferroni. Esto refuerza la conclusión de que **los grupos de control se comportan de manera similar** y se dividieron correctamente.\n",
    "\n",
    "#### **Comparación entre el grupo combinado de control (246 + 247) y el grupo 248 (fuentes alteradas)**:\n",
    "- **MainScreenAppear**: p-valor = 0.5067 → No hay diferencia significativa.\n",
    "- **PaymentScreenSuccessful**: p-valor = 0.6578 → No hay diferencia significativa.\n",
    "- **CartScreenAppear**: p-valor = 0.261 → No hay diferencia significativa.\n",
    "- **OffersScreenAppear**: p-valor = 0.4555 → No hay diferencia significativa.\n",
    "- **Tutorial**: p-valor = 0.8288 → No hay diferencia significativa.\n",
    "\n",
    "**Conclusión**: No se encontraron diferencias significativas entre el grupo combinado de control y el grupo con fuentes alteradas (248). Esto significa que las fuentes alteradas **no tuvieron un impacto significativo** en el comportamiento de los usuarios en ninguno de los eventos analizados.\n",
    "\n",
    "### Conclusión final:\n",
    "El experimento muestra que las **fuentes alteradas no tuvieron un impacto significativo** en el comportamiento de los usuarios. Dado que no se encontraron diferencias entre los grupos de control ni con el grupo 248, se puede concluir que el cambio en las fuentes no afecta la interacción de los usuarios con la aplicación en términos de los eventos clave analizados."
   ]
  },
  {
   "cell_type": "markdown",
   "metadata": {},
   "source": [
    "<div class=\"alert alert-block alert-success\">\n",
    "<b>Comentario del revisor. (Iteración 1) </b> <a class=\"tocSkip\"></a>\n",
    "\n",
    "Insisto, estoy de acuerdo que en los grupos de control no haya ninguna diferencia significativa, pero valdría muchisimo la pena para indagar que sucede con el grupo control como para que no exista ninguna diferencia. Pero bueno, más allá de eso, y regresando al notebook, has realizado un excelente trabajo."
   ]
  }
 ],
 "metadata": {
  "ExecuteTimeLog": [
   {
    "duration": 661,
    "start_time": "2024-10-18T17:17:24.526Z"
   },
   {
    "duration": 182,
    "start_time": "2024-10-18T17:18:20.963Z"
   },
   {
    "duration": 122,
    "start_time": "2024-10-18T17:18:23.693Z"
   },
   {
    "duration": 118,
    "start_time": "2024-10-18T17:22:31.922Z"
   },
   {
    "duration": 6,
    "start_time": "2024-10-18T17:23:16.400Z"
   },
   {
    "duration": 181,
    "start_time": "2024-10-18T17:23:25.636Z"
   },
   {
    "duration": 495,
    "start_time": "2024-10-18T17:23:33.650Z"
   },
   {
    "duration": 122,
    "start_time": "2024-10-18T17:23:34.146Z"
   },
   {
    "duration": 361,
    "start_time": "2024-10-18T17:25:16.104Z"
   },
   {
    "duration": 3,
    "start_time": "2024-10-18T17:25:16.467Z"
   },
   {
    "duration": 75,
    "start_time": "2024-10-18T17:25:16.472Z"
   },
   {
    "duration": 399,
    "start_time": "2024-10-18T17:27:12.003Z"
   },
   {
    "duration": 4,
    "start_time": "2024-10-18T17:27:12.405Z"
   },
   {
    "duration": 72,
    "start_time": "2024-10-18T17:27:12.411Z"
   },
   {
    "duration": 404,
    "start_time": "2024-10-18T17:31:11.066Z"
   },
   {
    "duration": 138,
    "start_time": "2024-10-18T17:31:11.473Z"
   },
   {
    "duration": 98,
    "start_time": "2024-10-18T17:31:11.613Z"
   },
   {
    "duration": 114,
    "start_time": "2024-10-18T17:33:05.776Z"
   },
   {
    "duration": 114,
    "start_time": "2024-10-18T17:33:08.162Z"
   },
   {
    "duration": 382,
    "start_time": "2024-10-18T17:37:17.401Z"
   },
   {
    "duration": 274,
    "start_time": "2024-10-18T17:37:17.785Z"
   },
   {
    "duration": 127,
    "start_time": "2024-10-18T17:37:18.061Z"
   },
   {
    "duration": 400,
    "start_time": "2024-10-18T18:02:52.337Z"
   },
   {
    "duration": 270,
    "start_time": "2024-10-18T18:02:52.742Z"
   },
   {
    "duration": 127,
    "start_time": "2024-10-18T18:02:53.013Z"
   },
   {
    "duration": 188,
    "start_time": "2024-10-18T18:02:53.143Z"
   },
   {
    "duration": 0,
    "start_time": "2024-10-18T18:02:53.333Z"
   },
   {
    "duration": 0,
    "start_time": "2024-10-18T18:02:53.334Z"
   },
   {
    "duration": 0,
    "start_time": "2024-10-18T18:02:53.336Z"
   },
   {
    "duration": 0,
    "start_time": "2024-10-18T18:02:53.337Z"
   },
   {
    "duration": 0,
    "start_time": "2024-10-18T18:02:53.338Z"
   },
   {
    "duration": 3,
    "start_time": "2024-10-18T18:03:13.019Z"
   },
   {
    "duration": 25,
    "start_time": "2024-10-18T18:03:22.064Z"
   },
   {
    "duration": 3,
    "start_time": "2024-10-18T18:03:29.155Z"
   },
   {
    "duration": 4,
    "start_time": "2024-10-18T18:03:39.855Z"
   },
   {
    "duration": 1863,
    "start_time": "2024-10-18T18:03:45.960Z"
   },
   {
    "duration": 532,
    "start_time": "2024-10-18T18:04:13.600Z"
   },
   {
    "duration": 287,
    "start_time": "2024-10-18T18:04:14.134Z"
   },
   {
    "duration": 125,
    "start_time": "2024-10-18T18:04:14.423Z"
   },
   {
    "duration": 4,
    "start_time": "2024-10-18T18:04:14.550Z"
   },
   {
    "duration": 25,
    "start_time": "2024-10-18T18:04:14.556Z"
   },
   {
    "duration": 3,
    "start_time": "2024-10-18T18:04:14.583Z"
   },
   {
    "duration": 5,
    "start_time": "2024-10-18T18:04:14.587Z"
   },
   {
    "duration": 219,
    "start_time": "2024-10-18T18:04:14.593Z"
   },
   {
    "duration": 190,
    "start_time": "2024-10-18T18:04:14.813Z"
   },
   {
    "duration": 14,
    "start_time": "2024-10-18T18:07:58.415Z"
   },
   {
    "duration": 14,
    "start_time": "2024-10-18T18:08:10.381Z"
   },
   {
    "duration": 569,
    "start_time": "2024-10-18T18:09:46.926Z"
   },
   {
    "duration": 313,
    "start_time": "2024-10-18T18:09:47.498Z"
   },
   {
    "duration": 142,
    "start_time": "2024-10-18T18:09:47.813Z"
   },
   {
    "duration": 3,
    "start_time": "2024-10-18T18:09:47.957Z"
   },
   {
    "duration": 29,
    "start_time": "2024-10-18T18:09:47.962Z"
   },
   {
    "duration": 3,
    "start_time": "2024-10-18T18:09:47.993Z"
   },
   {
    "duration": 33,
    "start_time": "2024-10-18T18:09:47.999Z"
   },
   {
    "duration": 211,
    "start_time": "2024-10-18T18:09:48.035Z"
   },
   {
    "duration": 14,
    "start_time": "2024-10-18T18:09:48.247Z"
   },
   {
    "duration": 26,
    "start_time": "2024-10-18T18:09:48.263Z"
   },
   {
    "duration": 57,
    "start_time": "2024-10-18T18:09:48.290Z"
   },
   {
    "duration": 16,
    "start_time": "2024-10-18T18:11:35.868Z"
   },
   {
    "duration": 26,
    "start_time": "2024-10-18T18:12:03.317Z"
   },
   {
    "duration": 35,
    "start_time": "2024-10-18T18:12:57.562Z"
   },
   {
    "duration": 35,
    "start_time": "2024-10-18T18:13:14.926Z"
   },
   {
    "duration": 35,
    "start_time": "2024-10-18T18:13:58.725Z"
   },
   {
    "duration": 529,
    "start_time": "2024-10-18T18:14:19.084Z"
   },
   {
    "duration": 288,
    "start_time": "2024-10-18T18:14:19.615Z"
   },
   {
    "duration": 124,
    "start_time": "2024-10-18T18:14:19.904Z"
   },
   {
    "duration": 4,
    "start_time": "2024-10-18T18:14:20.030Z"
   },
   {
    "duration": 24,
    "start_time": "2024-10-18T18:14:20.037Z"
   },
   {
    "duration": 3,
    "start_time": "2024-10-18T18:14:20.063Z"
   },
   {
    "duration": 5,
    "start_time": "2024-10-18T18:14:20.067Z"
   },
   {
    "duration": 219,
    "start_time": "2024-10-18T18:14:20.073Z"
   },
   {
    "duration": 14,
    "start_time": "2024-10-18T18:14:20.294Z"
   },
   {
    "duration": 41,
    "start_time": "2024-10-18T18:14:20.309Z"
   },
   {
    "duration": 36,
    "start_time": "2024-10-18T18:14:20.352Z"
   },
   {
    "duration": 25,
    "start_time": "2024-10-18T18:21:06.151Z"
   },
   {
    "duration": 25,
    "start_time": "2024-10-18T18:22:02.348Z"
   },
   {
    "duration": 26,
    "start_time": "2024-10-18T18:22:16.380Z"
   },
   {
    "duration": 26,
    "start_time": "2024-10-18T18:22:45.993Z"
   },
   {
    "duration": 528,
    "start_time": "2024-10-18T18:23:34.024Z"
   },
   {
    "duration": 268,
    "start_time": "2024-10-18T18:23:34.555Z"
   },
   {
    "duration": 125,
    "start_time": "2024-10-18T18:23:34.825Z"
   },
   {
    "duration": 3,
    "start_time": "2024-10-18T18:23:34.952Z"
   },
   {
    "duration": 24,
    "start_time": "2024-10-18T18:23:34.958Z"
   },
   {
    "duration": 3,
    "start_time": "2024-10-18T18:23:34.984Z"
   },
   {
    "duration": 4,
    "start_time": "2024-10-18T18:23:34.989Z"
   },
   {
    "duration": 216,
    "start_time": "2024-10-18T18:23:34.994Z"
   },
   {
    "duration": 23,
    "start_time": "2024-10-18T18:23:35.211Z"
   },
   {
    "duration": 26,
    "start_time": "2024-10-18T18:23:35.236Z"
   },
   {
    "duration": 35,
    "start_time": "2024-10-18T18:23:35.264Z"
   },
   {
    "duration": 47,
    "start_time": "2024-10-18T18:23:35.301Z"
   },
   {
    "duration": 3,
    "start_time": "2024-10-18T18:23:35.350Z"
   },
   {
    "duration": 18,
    "start_time": "2024-10-18T18:26:51.089Z"
   },
   {
    "duration": 55,
    "start_time": "2024-10-18T18:27:51.191Z"
   },
   {
    "duration": 50,
    "start_time": "2024-10-18T18:28:31.203Z"
   },
   {
    "duration": 50,
    "start_time": "2024-10-18T18:28:39.344Z"
   },
   {
    "duration": 51,
    "start_time": "2024-10-18T18:28:50.872Z"
   },
   {
    "duration": 51,
    "start_time": "2024-10-18T18:28:57.699Z"
   },
   {
    "duration": 52,
    "start_time": "2024-10-18T18:29:11.773Z"
   },
   {
    "duration": 553,
    "start_time": "2024-10-18T18:37:03.902Z"
   },
   {
    "duration": 276,
    "start_time": "2024-10-18T18:37:04.457Z"
   },
   {
    "duration": 135,
    "start_time": "2024-10-18T18:37:04.735Z"
   },
   {
    "duration": 3,
    "start_time": "2024-10-18T18:37:04.872Z"
   },
   {
    "duration": 26,
    "start_time": "2024-10-18T18:37:04.878Z"
   },
   {
    "duration": 3,
    "start_time": "2024-10-18T18:37:04.907Z"
   },
   {
    "duration": 7,
    "start_time": "2024-10-18T18:37:04.931Z"
   },
   {
    "duration": 201,
    "start_time": "2024-10-18T18:37:04.940Z"
   },
   {
    "duration": 14,
    "start_time": "2024-10-18T18:37:05.143Z"
   },
   {
    "duration": 30,
    "start_time": "2024-10-18T18:37:05.160Z"
   },
   {
    "duration": 59,
    "start_time": "2024-10-18T18:37:05.191Z"
   },
   {
    "duration": 18,
    "start_time": "2024-10-18T18:37:05.252Z"
   },
   {
    "duration": 254,
    "start_time": "2024-10-18T18:37:05.272Z"
   },
   {
    "duration": 0,
    "start_time": "2024-10-18T18:37:05.531Z"
   },
   {
    "duration": 50,
    "start_time": "2024-10-18T18:37:42.991Z"
   },
   {
    "duration": 121,
    "start_time": "2024-10-18T18:39:05.395Z"
   },
   {
    "duration": 50,
    "start_time": "2024-10-18T18:39:30.081Z"
   },
   {
    "duration": 110,
    "start_time": "2024-10-18T18:42:52.817Z"
   },
   {
    "duration": 146,
    "start_time": "2024-10-18T18:43:02.675Z"
   },
   {
    "duration": 112,
    "start_time": "2024-10-18T18:43:09.265Z"
   },
   {
    "duration": 119,
    "start_time": "2024-10-18T18:43:19.590Z"
   },
   {
    "duration": 110,
    "start_time": "2024-10-18T18:47:18.095Z"
   },
   {
    "duration": 3,
    "start_time": "2024-10-18T18:51:45.676Z"
   },
   {
    "duration": 71,
    "start_time": "2024-10-18T18:54:01.678Z"
   },
   {
    "duration": 3,
    "start_time": "2024-10-18T18:54:25.371Z"
   },
   {
    "duration": 571,
    "start_time": "2024-10-18T18:54:54.847Z"
   },
   {
    "duration": 272,
    "start_time": "2024-10-18T18:54:55.420Z"
   },
   {
    "duration": 125,
    "start_time": "2024-10-18T18:54:55.693Z"
   },
   {
    "duration": 4,
    "start_time": "2024-10-18T18:54:55.820Z"
   },
   {
    "duration": 36,
    "start_time": "2024-10-18T18:54:55.826Z"
   },
   {
    "duration": 3,
    "start_time": "2024-10-18T18:54:55.864Z"
   },
   {
    "duration": 5,
    "start_time": "2024-10-18T18:54:55.869Z"
   },
   {
    "duration": 211,
    "start_time": "2024-10-18T18:54:55.876Z"
   },
   {
    "duration": 14,
    "start_time": "2024-10-18T18:54:56.088Z"
   },
   {
    "duration": 38,
    "start_time": "2024-10-18T18:54:56.104Z"
   },
   {
    "duration": 37,
    "start_time": "2024-10-18T18:54:56.143Z"
   },
   {
    "duration": 17,
    "start_time": "2024-10-18T18:54:56.182Z"
   },
   {
    "duration": 101,
    "start_time": "2024-10-18T18:54:56.201Z"
   },
   {
    "duration": 125,
    "start_time": "2024-10-18T18:54:56.306Z"
   },
   {
    "duration": 3,
    "start_time": "2024-10-18T18:54:56.433Z"
   },
   {
    "duration": 4,
    "start_time": "2024-10-18T18:55:58.113Z"
   },
   {
    "duration": 35,
    "start_time": "2024-10-18T19:05:24.902Z"
   },
   {
    "duration": 382,
    "start_time": "2024-10-18T19:06:08.392Z"
   },
   {
    "duration": 857,
    "start_time": "2024-10-18T19:06:13.829Z"
   },
   {
    "duration": 260,
    "start_time": "2024-10-18T19:06:14.688Z"
   },
   {
    "duration": 123,
    "start_time": "2024-10-18T19:06:14.949Z"
   },
   {
    "duration": 3,
    "start_time": "2024-10-18T19:06:15.074Z"
   },
   {
    "duration": 25,
    "start_time": "2024-10-18T19:06:15.080Z"
   },
   {
    "duration": 3,
    "start_time": "2024-10-18T19:06:15.106Z"
   },
   {
    "duration": 6,
    "start_time": "2024-10-18T19:06:15.131Z"
   },
   {
    "duration": 200,
    "start_time": "2024-10-18T19:06:15.139Z"
   },
   {
    "duration": 14,
    "start_time": "2024-10-18T19:06:15.341Z"
   },
   {
    "duration": 29,
    "start_time": "2024-10-18T19:06:15.357Z"
   },
   {
    "duration": 57,
    "start_time": "2024-10-18T19:06:15.388Z"
   },
   {
    "duration": 18,
    "start_time": "2024-10-18T19:06:15.446Z"
   },
   {
    "duration": 87,
    "start_time": "2024-10-18T19:06:15.465Z"
   },
   {
    "duration": 116,
    "start_time": "2024-10-18T19:06:15.555Z"
   },
   {
    "duration": 3,
    "start_time": "2024-10-18T19:06:15.673Z"
   },
   {
    "duration": 33,
    "start_time": "2024-10-18T19:06:15.679Z"
   },
   {
    "duration": 52,
    "start_time": "2024-10-18T19:06:15.713Z"
   },
   {
    "duration": 42,
    "start_time": "2024-10-18T19:06:47.812Z"
   },
   {
    "duration": 35,
    "start_time": "2024-10-18T19:07:03.256Z"
   },
   {
    "duration": 42,
    "start_time": "2024-10-18T19:08:31.419Z"
   },
   {
    "duration": 353,
    "start_time": "2024-10-18T19:09:00.395Z"
   },
   {
    "duration": 826,
    "start_time": "2024-10-18T19:09:54.671Z"
   },
   {
    "duration": 262,
    "start_time": "2024-10-18T19:09:55.499Z"
   },
   {
    "duration": 132,
    "start_time": "2024-10-18T19:09:55.763Z"
   },
   {
    "duration": 3,
    "start_time": "2024-10-18T19:09:55.896Z"
   },
   {
    "duration": 34,
    "start_time": "2024-10-18T19:09:55.902Z"
   },
   {
    "duration": 3,
    "start_time": "2024-10-18T19:09:55.938Z"
   },
   {
    "duration": 5,
    "start_time": "2024-10-18T19:09:55.943Z"
   },
   {
    "duration": 217,
    "start_time": "2024-10-18T19:09:55.949Z"
   },
   {
    "duration": 13,
    "start_time": "2024-10-18T19:09:56.168Z"
   },
   {
    "duration": 27,
    "start_time": "2024-10-18T19:09:56.183Z"
   },
   {
    "duration": 53,
    "start_time": "2024-10-18T19:09:56.212Z"
   },
   {
    "duration": 17,
    "start_time": "2024-10-18T19:09:56.267Z"
   },
   {
    "duration": 85,
    "start_time": "2024-10-18T19:09:56.287Z"
   },
   {
    "duration": 125,
    "start_time": "2024-10-18T19:09:56.376Z"
   },
   {
    "duration": 3,
    "start_time": "2024-10-18T19:09:56.503Z"
   },
   {
    "duration": 46,
    "start_time": "2024-10-18T19:09:56.508Z"
   },
   {
    "duration": 35,
    "start_time": "2024-10-18T19:09:56.556Z"
   },
   {
    "duration": 57,
    "start_time": "2024-10-18T19:09:56.593Z"
   },
   {
    "duration": 346,
    "start_time": "2024-10-18T19:09:56.652Z"
   },
   {
    "duration": 21,
    "start_time": "2024-10-18T19:12:27.002Z"
   },
   {
    "duration": 21,
    "start_time": "2024-10-18T19:13:35.463Z"
   },
   {
    "duration": 6,
    "start_time": "2024-10-18T19:15:04.489Z"
   },
   {
    "duration": 85,
    "start_time": "2024-10-18T19:23:15.259Z"
   },
   {
    "duration": 136,
    "start_time": "2024-10-18T19:26:06.546Z"
   },
   {
    "duration": 854,
    "start_time": "2024-10-18T19:26:27.938Z"
   },
   {
    "duration": 267,
    "start_time": "2024-10-18T19:26:28.794Z"
   },
   {
    "duration": 127,
    "start_time": "2024-10-18T19:26:29.063Z"
   },
   {
    "duration": 3,
    "start_time": "2024-10-18T19:26:29.858Z"
   },
   {
    "duration": 26,
    "start_time": "2024-10-18T19:26:29.863Z"
   },
   {
    "duration": 3,
    "start_time": "2024-10-18T19:26:30.587Z"
   },
   {
    "duration": 9,
    "start_time": "2024-10-18T19:26:30.592Z"
   },
   {
    "duration": 188,
    "start_time": "2024-10-18T19:26:30.603Z"
   },
   {
    "duration": 15,
    "start_time": "2024-10-18T19:26:30.793Z"
   },
   {
    "duration": 39,
    "start_time": "2024-10-18T19:26:30.810Z"
   },
   {
    "duration": 36,
    "start_time": "2024-10-18T19:26:30.851Z"
   },
   {
    "duration": 17,
    "start_time": "2024-10-18T19:26:30.889Z"
   },
   {
    "duration": 93,
    "start_time": "2024-10-18T19:26:30.907Z"
   },
   {
    "duration": 119,
    "start_time": "2024-10-18T19:26:31.045Z"
   },
   {
    "duration": 3,
    "start_time": "2024-10-18T19:26:31.167Z"
   },
   {
    "duration": 34,
    "start_time": "2024-10-18T19:26:31.172Z"
   },
   {
    "duration": 41,
    "start_time": "2024-10-18T19:26:31.261Z"
   },
   {
    "duration": 43,
    "start_time": "2024-10-18T19:26:31.304Z"
   },
   {
    "duration": 6,
    "start_time": "2024-10-18T19:26:31.349Z"
   },
   {
    "duration": 144,
    "start_time": "2024-10-18T19:26:31.356Z"
   },
   {
    "duration": 672,
    "start_time": "2024-10-18T19:27:13.791Z"
   },
   {
    "duration": 140,
    "start_time": "2024-10-18T19:28:33.942Z"
   },
   {
    "duration": 14,
    "start_time": "2024-10-18T19:29:30.709Z"
   },
   {
    "duration": 45,
    "start_time": "2024-10-18T19:30:31.726Z"
   },
   {
    "duration": 8,
    "start_time": "2024-10-18T19:31:14.545Z"
   },
   {
    "duration": 7,
    "start_time": "2024-10-18T19:31:39.355Z"
   },
   {
    "duration": 6,
    "start_time": "2024-10-18T19:32:10.567Z"
   },
   {
    "duration": 140,
    "start_time": "2024-10-18T19:32:49.809Z"
   },
   {
    "duration": 153,
    "start_time": "2024-10-18T19:33:16.758Z"
   },
   {
    "duration": 145,
    "start_time": "2024-10-18T19:34:16.769Z"
   },
   {
    "duration": 278,
    "start_time": "2024-10-18T19:52:15.796Z"
   },
   {
    "duration": 303,
    "start_time": "2024-10-18T19:54:24.217Z"
   },
   {
    "duration": 296,
    "start_time": "2024-10-18T19:54:52.121Z"
   },
   {
    "duration": 883,
    "start_time": "2024-10-18T19:59:34.757Z"
   },
   {
    "duration": 265,
    "start_time": "2024-10-18T19:59:35.643Z"
   },
   {
    "duration": 124,
    "start_time": "2024-10-18T19:59:35.909Z"
   },
   {
    "duration": 2,
    "start_time": "2024-10-18T19:59:36.035Z"
   },
   {
    "duration": 25,
    "start_time": "2024-10-18T19:59:36.039Z"
   },
   {
    "duration": 3,
    "start_time": "2024-10-18T19:59:36.066Z"
   },
   {
    "duration": 4,
    "start_time": "2024-10-18T19:59:36.071Z"
   },
   {
    "duration": 215,
    "start_time": "2024-10-18T19:59:36.077Z"
   },
   {
    "duration": 14,
    "start_time": "2024-10-18T19:59:36.294Z"
   },
   {
    "duration": 41,
    "start_time": "2024-10-18T19:59:36.311Z"
   },
   {
    "duration": 36,
    "start_time": "2024-10-18T19:59:36.354Z"
   },
   {
    "duration": 17,
    "start_time": "2024-10-18T19:59:36.391Z"
   },
   {
    "duration": 94,
    "start_time": "2024-10-18T19:59:36.410Z"
   },
   {
    "duration": 122,
    "start_time": "2024-10-18T19:59:36.506Z"
   },
   {
    "duration": 3,
    "start_time": "2024-10-18T19:59:36.632Z"
   },
   {
    "duration": 33,
    "start_time": "2024-10-18T19:59:36.637Z"
   },
   {
    "duration": 37,
    "start_time": "2024-10-18T19:59:36.672Z"
   },
   {
    "duration": 41,
    "start_time": "2024-10-18T19:59:36.731Z"
   },
   {
    "duration": 8,
    "start_time": "2024-10-18T19:59:36.774Z"
   },
   {
    "duration": 160,
    "start_time": "2024-10-18T19:59:36.785Z"
   },
   {
    "duration": 273,
    "start_time": "2024-10-18T19:59:36.947Z"
   },
   {
    "duration": 0,
    "start_time": "2024-10-18T19:59:37.222Z"
   },
   {
    "duration": 269,
    "start_time": "2024-10-18T20:03:08.603Z"
   },
   {
    "duration": 844,
    "start_time": "2024-10-18T20:03:25.873Z"
   },
   {
    "duration": 266,
    "start_time": "2024-10-18T20:03:26.719Z"
   },
   {
    "duration": 129,
    "start_time": "2024-10-18T20:03:26.987Z"
   },
   {
    "duration": 3,
    "start_time": "2024-10-18T20:03:27.118Z"
   },
   {
    "duration": 26,
    "start_time": "2024-10-18T20:03:27.131Z"
   },
   {
    "duration": 3,
    "start_time": "2024-10-18T20:03:27.159Z"
   },
   {
    "duration": 5,
    "start_time": "2024-10-18T20:03:27.163Z"
   },
   {
    "duration": 202,
    "start_time": "2024-10-18T20:03:27.171Z"
   },
   {
    "duration": 14,
    "start_time": "2024-10-18T20:03:27.375Z"
   },
   {
    "duration": 39,
    "start_time": "2024-10-18T20:03:27.392Z"
   },
   {
    "duration": 36,
    "start_time": "2024-10-18T20:03:27.433Z"
   },
   {
    "duration": 18,
    "start_time": "2024-10-18T20:03:27.471Z"
   },
   {
    "duration": 95,
    "start_time": "2024-10-18T20:03:27.491Z"
   },
   {
    "duration": 136,
    "start_time": "2024-10-18T20:03:27.588Z"
   },
   {
    "duration": 9,
    "start_time": "2024-10-18T20:03:27.725Z"
   },
   {
    "duration": 34,
    "start_time": "2024-10-18T20:03:27.736Z"
   },
   {
    "duration": 37,
    "start_time": "2024-10-18T20:03:27.771Z"
   },
   {
    "duration": 59,
    "start_time": "2024-10-18T20:03:27.810Z"
   },
   {
    "duration": 6,
    "start_time": "2024-10-18T20:03:27.871Z"
   },
   {
    "duration": 177,
    "start_time": "2024-10-18T20:03:27.878Z"
   },
   {
    "duration": 297,
    "start_time": "2024-10-18T20:03:28.057Z"
   },
   {
    "duration": 0,
    "start_time": "2024-10-18T20:03:28.356Z"
   },
   {
    "duration": 135,
    "start_time": "2024-10-18T20:04:33.959Z"
   },
   {
    "duration": 848,
    "start_time": "2024-10-18T20:04:44.724Z"
   },
   {
    "duration": 263,
    "start_time": "2024-10-18T20:04:45.574Z"
   },
   {
    "duration": 126,
    "start_time": "2024-10-18T20:04:45.839Z"
   },
   {
    "duration": 4,
    "start_time": "2024-10-18T20:04:45.967Z"
   },
   {
    "duration": 31,
    "start_time": "2024-10-18T20:04:45.974Z"
   },
   {
    "duration": 3,
    "start_time": "2024-10-18T20:04:46.007Z"
   },
   {
    "duration": 23,
    "start_time": "2024-10-18T20:04:46.011Z"
   },
   {
    "duration": 204,
    "start_time": "2024-10-18T20:04:46.036Z"
   },
   {
    "duration": 14,
    "start_time": "2024-10-18T20:04:46.243Z"
   },
   {
    "duration": 29,
    "start_time": "2024-10-18T20:04:46.258Z"
   },
   {
    "duration": 57,
    "start_time": "2024-10-18T20:04:46.289Z"
   },
   {
    "duration": 18,
    "start_time": "2024-10-18T20:04:46.348Z"
   },
   {
    "duration": 87,
    "start_time": "2024-10-18T20:04:46.367Z"
   },
   {
    "duration": 112,
    "start_time": "2024-10-18T20:04:46.457Z"
   },
   {
    "duration": 4,
    "start_time": "2024-10-18T20:04:46.570Z"
   },
   {
    "duration": 34,
    "start_time": "2024-10-18T20:04:46.576Z"
   },
   {
    "duration": 53,
    "start_time": "2024-10-18T20:04:46.611Z"
   },
   {
    "duration": 46,
    "start_time": "2024-10-18T20:04:46.666Z"
   },
   {
    "duration": 17,
    "start_time": "2024-10-18T20:04:46.714Z"
   },
   {
    "duration": 157,
    "start_time": "2024-10-18T20:04:46.733Z"
   },
   {
    "duration": 151,
    "start_time": "2024-10-18T20:04:46.891Z"
   },
   {
    "duration": 293,
    "start_time": "2024-10-18T20:04:47.044Z"
   }
  ],
  "kernelspec": {
   "display_name": "Python 3 (ipykernel)",
   "language": "python",
   "name": "python3"
  },
  "language_info": {
   "codemirror_mode": {
    "name": "ipython",
    "version": 3
   },
   "file_extension": ".py",
   "mimetype": "text/x-python",
   "name": "python",
   "nbconvert_exporter": "python",
   "pygments_lexer": "ipython3",
   "version": "3.9.20"
  },
  "toc": {
   "base_numbering": 1,
   "nav_menu": {},
   "number_sections": true,
   "sideBar": true,
   "skip_h1_title": true,
   "title_cell": "Table of Contents",
   "title_sidebar": "Contents",
   "toc_cell": false,
   "toc_position": {},
   "toc_section_display": true,
   "toc_window_display": false
  }
 },
 "nbformat": 4,
 "nbformat_minor": 4
}
